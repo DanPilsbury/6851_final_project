{
 "cells": [
  {
   "cell_type": "code",
   "execution_count": 1,
   "metadata": {},
   "outputs": [],
   "source": [
    "from find_drives import *"
   ]
  },
  {
   "cell_type": "code",
   "execution_count": 42,
   "metadata": {},
   "outputs": [],
   "source": [
    "import plotly.express as px"
   ]
  },
  {
   "cell_type": "code",
   "execution_count": 41,
   "metadata": {},
   "outputs": [],
   "source": [
    "import plotly.graph_objects as go  # or plotly.express as px\n",
    "\n",
    "import dash\n",
    "import dash_core_components as dcc\n",
    "import dash_html_components as html\n",
    "from dash.dependencies import Input, Output\n",
    "import json\n",
    "from textwrap import dedent as d"
   ]
  },
  {
   "cell_type": "code",
   "execution_count": 70,
   "metadata": {},
   "outputs": [],
   "source": [
    "import pandas as pd"
   ]
  },
  {
   "cell_type": "code",
   "execution_count": 71,
   "metadata": {},
   "outputs": [],
   "source": [
    "d = {\n",
    "    'a': [1, 2, 3],\n",
    "    'b': [4, 5, 6]\n",
    "}"
   ]
  },
  {
   "cell_type": "code",
   "execution_count": 72,
   "metadata": {},
   "outputs": [
    {
     "data": {
      "text/html": [
       "<div>\n",
       "<style scoped>\n",
       "    .dataframe tbody tr th:only-of-type {\n",
       "        vertical-align: middle;\n",
       "    }\n",
       "\n",
       "    .dataframe tbody tr th {\n",
       "        vertical-align: top;\n",
       "    }\n",
       "\n",
       "    .dataframe thead th {\n",
       "        text-align: right;\n",
       "    }\n",
       "</style>\n",
       "<table border=\"1\" class=\"dataframe\">\n",
       "  <thead>\n",
       "    <tr style=\"text-align: right;\">\n",
       "      <th></th>\n",
       "      <th>a</th>\n",
       "      <th>b</th>\n",
       "    </tr>\n",
       "  </thead>\n",
       "  <tbody>\n",
       "    <tr>\n",
       "      <th>0</th>\n",
       "      <td>1</td>\n",
       "      <td>4</td>\n",
       "    </tr>\n",
       "    <tr>\n",
       "      <th>1</th>\n",
       "      <td>2</td>\n",
       "      <td>5</td>\n",
       "    </tr>\n",
       "    <tr>\n",
       "      <th>2</th>\n",
       "      <td>3</td>\n",
       "      <td>6</td>\n",
       "    </tr>\n",
       "  </tbody>\n",
       "</table>\n",
       "</div>"
      ],
      "text/plain": [
       "   a  b\n",
       "0  1  4\n",
       "1  2  5\n",
       "2  3  6"
      ]
     },
     "execution_count": 72,
     "metadata": {},
     "output_type": "execute_result"
    },
    {
     "name": "stderr",
     "output_type": "stream",
     "text": [
      "Exception in thread Thread-1802 (<lambda>):\n",
      "Traceback (most recent call last):\n",
      "  File \"/Users/danielpilsbury/.pyenv/versions/3.11.2/lib/python3.11/threading.py\", line 1038, in _bootstrap_inner\n",
      "    self.run()\n",
      "  File \"/Users/danielpilsbury/.pyenv/versions/3.11.2/lib/python3.11/threading.py\", line 975, in run\n",
      "    self._target(*self._args, **self._kwargs)\n",
      "  File \"/Users/danielpilsbury/.pyenv/versions/3.11.2/lib/python3.11/site-packages/dash/dash.py\", line 1702, in <lambda>\n",
      "    target=lambda: _watch.watch(\n",
      "                   ^^^^^^^^^^^^^\n",
      "  File \"/Users/danielpilsbury/.pyenv/versions/3.11.2/lib/python3.11/site-packages/dash/_watch.py\", line 35, in watch\n",
      "    walk()\n",
      "  File \"/Users/danielpilsbury/.pyenv/versions/3.11.2/lib/python3.11/site-packages/dash/_watch.py\", line 20, in walk\n",
      "    info = os.stat(path)\n",
      "           ^^^^^^^^^^^^^\n",
      "FileNotFoundError: [Errno 2] No such file or directory: '/Users/danielpilsbury/.pyenv/versions/3.11.2/lib/python3.11/site-packages/dash/dcc/__pycache__/express.cpython-311-pytest-7.2.2.pyc.50607'\n",
      "Exception in thread Thread-2902 (<lambda>):\n",
      "Traceback (most recent call last):\n",
      "  File \"/Users/danielpilsbury/.pyenv/versions/3.11.2/lib/python3.11/threading.py\", line 1038, in _bootstrap_inner\n",
      "    self.run()\n",
      "  File \"/Users/danielpilsbury/.pyenv/versions/3.11.2/lib/python3.11/threading.py\", line 975, in run\n",
      "    self._target(*self._args, **self._kwargs)\n",
      "  File \"/Users/danielpilsbury/.pyenv/versions/3.11.2/lib/python3.11/site-packages/dash/dash.py\", line 1702, in <lambda>\n",
      "    target=lambda: _watch.watch(\n",
      "                   ^^^^^^^^^^^^^\n",
      "  File \"/Users/danielpilsbury/.pyenv/versions/3.11.2/lib/python3.11/site-packages/dash/_watch.py\", line 35, in watch\n",
      "    walk()\n",
      "  File \"/Users/danielpilsbury/.pyenv/versions/3.11.2/lib/python3.11/site-packages/dash/_watch.py\", line 20, in walk\n",
      "    info = os.stat(path)\n",
      "           ^^^^^^^^^^^^^\n",
      "FileNotFoundError: [Errno 2] No such file or directory: '/Users/danielpilsbury/.pyenv/versions/3.11.2/lib/python3.11/site-packages/dash/html/__pycache__/Section.cpython-311-pytest-7.2.2.pyc.50607'\n",
      "Exception in thread Thread-3541 (<lambda>):\n",
      "Traceback (most recent call last):\n",
      "  File \"/Users/danielpilsbury/.pyenv/versions/3.11.2/lib/python3.11/threading.py\", line 1038, in _bootstrap_inner\n",
      "    self.run()\n",
      "  File \"/Users/danielpilsbury/.pyenv/versions/3.11.2/lib/python3.11/threading.py\", line 975, in run\n",
      "    self._target(*self._args, **self._kwargs)\n",
      "  File \"/Users/danielpilsbury/.pyenv/versions/3.11.2/lib/python3.11/site-packages/dash/dash.py\", line 1702, in <lambda>\n",
      "    target=lambda: _watch.watch(\n",
      "                   ^^^^^^^^^^^^^\n",
      "  File \"/Users/danielpilsbury/.pyenv/versions/3.11.2/lib/python3.11/site-packages/dash/_watch.py\", line 35, in watch\n",
      "    walk()\n",
      "  File \"/Users/danielpilsbury/.pyenv/versions/3.11.2/lib/python3.11/site-packages/dash/_watch.py\", line 20, in walk\n",
      "    info = os.stat(path)\n",
      "           ^^^^^^^^^^^^^\n",
      "FileNotFoundError: [Errno 2] No such file or directory: '/Users/danielpilsbury/.pyenv/versions/3.11.2/lib/python3.11/site-packages/dash/__pycache__/_callback.cpython-311-pytest-7.2.2.pyc.50607'\n"
     ]
    }
   ],
   "source": [
    "pd.DataFrame(d)"
   ]
  },
  {
   "cell_type": "code",
   "execution_count": 3,
   "metadata": {},
   "outputs": [],
   "source": [
    "args = {\n",
    "    'season': 2018,\n",
    "    'player_name': 'Stephen Curry',\n",
    "    'start_loc': (-40, -22),\n",
    "    'num_results': 5\n",
    "}"
   ]
  },
  {
   "cell_type": "code",
   "execution_count": 4,
   "metadata": {},
   "outputs": [],
   "source": [
    "graph_data = get_graph_data(**args)"
   ]
  },
  {
   "cell_type": "code",
   "execution_count": 45,
   "metadata": {},
   "outputs": [],
   "source": [
    "def get_basketball_court_fig():\n",
    "    fig = px.scatter()\n",
    "    draw_basketball_court(fig)\n",
    "    return fig"
   ]
  },
  {
   "cell_type": "code",
   "execution_count": 69,
   "metadata": {},
   "outputs": [
    {
     "name": "stdout",
     "output_type": "stream",
     "text": [
      "Dash is running on http://127.0.0.1:8050/\n",
      "\n",
      " * Serving Flask app '__main__'\n",
      " * Debug mode: on\n"
     ]
    }
   ],
   "source": [
    "app = dash.Dash()\n",
    "\n",
    "# fig = get_drive_animation(graph_data)\n",
    "fig = get_basketball_court_fig()\n",
    "\n",
    "# global state\n",
    "graph_data = None\n",
    "play_index = 0\n",
    "current_traces = (None, None)\n",
    "\n",
    "fig.update_layout(dragmode='lasso')\n",
    "fig.update_layout(clickmode='event+select')\n",
    "\n",
    "\n",
    "\n",
    "dropdown_options = [{\"label\": str(i), \"value\": i} for i in range(args['num_results'])]\n",
    "\n",
    "app.layout = html.Div(\n",
    "    [\n",
    "        dcc.Graph(id=\"graph-court\", figure=fig),\n",
    "        html.Button('Reset', id='button-reset'),\n",
    "        dcc.Dropdown(id=\"dropdown\", options=dropdown_options, value=0),\n",
    "         html.Div(\n",
    "            className=\"row\",\n",
    "            children=[\n",
    "                html.Div(\n",
    "                    [\n",
    "                        dcc.Markdown(d(\"\"\"Selected Data using figure references\"\"\")),\n",
    "                        html.Pre(id=\"selected_data\"),\n",
    "                    ],\n",
    "                    className=\"three columns\",\n",
    "                ),\n",
    "            ]\n",
    "        ),\n",
    "    ]\n",
    ")\n",
    "\n",
    "@app.callback(\n",
    "    Output('graph-court', 'figure'),\n",
    "    Input('button-reset', 'n_clicks'))\n",
    "def reset_graph(n_clicks):\n",
    "    global fig\n",
    "    fig = get_basketball_court_fig()\n",
    "    fig.update_layout(dragmode='lasso')\n",
    "    fig.update_layout(clickmode='event+select')\n",
    "    return fig\n",
    "    \n",
    "@app.callback(\n",
    "    Output('graph-court', 'figure', allow_duplicate=True),\n",
    "    Output('selected_data', 'children'),\n",
    "    Input('graph-court', 'selectedData'),\n",
    "    prevent_initial_call=True)\n",
    "def display_selected_data(selectedData):\n",
    "    global fig\n",
    "    if selectedData and 'lassoPoints' in selectedData:\n",
    "        lasso_points = selectedData['lassoPoints']\n",
    "        x = lasso_points['x']\n",
    "        y = lasso_points['y']\n",
    "        neg_x = [-x for x in x]\n",
    "        neg_y = [-y for y in y]\n",
    "\n",
    "\n",
    "        args['start_loc'] = (x[0], y[0])\n",
    "        global graph_data\n",
    "        graph_data = get_graph_data(**args)\n",
    "        fig = get_drive_animation(graph_data)\n",
    "            \n",
    "        # add a line trace for selected points\n",
    "        global current_traces\n",
    "        trace_1 = go.Scatter(x=x, y=y, mode='lines', line=dict(color='gray', dash='dash'), showlegend=False)\n",
    "        trace_2 = go.Scatter(x=neg_x, y=neg_y, mode='lines', line=dict(color='gray', dash='dash'), showlegend=False)\n",
    "        current_traces = (trace_1, trace_2)\n",
    "        for trace in current_traces:\n",
    "            fig.add_trace(trace)\n",
    "\n",
    "        return fig, json.dumps(selectedData, indent=2)\n",
    "    \n",
    "    return fig, None\n",
    "\n",
    "@app.callback(\n",
    "    Output('graph-court', 'figure', allow_duplicate=True),\n",
    "    Input('dropdown', 'value'),\n",
    "    prevent_initial_call=True)\n",
    "def update_graph(value):\n",
    "    if isinstance(value, int):\n",
    "        global fig\n",
    "        global play_index\n",
    "        play_index = value\n",
    "        fig = get_drive_animation(graph_data, play_index)\n",
    "        for trace in current_traces:\n",
    "            fig.add_trace(trace)\n",
    "        return fig\n",
    "    assert False\n",
    "\n",
    "\n",
    "app.run_server(debug=True, use_reloader=False)"
   ]
  },
  {
   "cell_type": "code",
   "execution_count": 46,
   "metadata": {},
   "outputs": [
    {
     "data": {
      "application/vnd.plotly.v1+json": {
       "config": {
        "plotlyServerURL": "https://plot.ly"
       },
       "data": [
        {
         "hovertemplate": "<extra></extra>",
         "legendgroup": "",
         "marker": {
          "color": "#636efa",
          "symbol": "circle"
         },
         "mode": "markers",
         "name": "",
         "orientation": "v",
         "showlegend": false,
         "type": "scatter",
         "xaxis": "x",
         "yaxis": "y"
        }
       ],
       "layout": {
        "legend": {
         "tracegroupgap": 0
        },
        "margin": {
         "t": 60
        },
        "shapes": [
         {
          "line": {
           "color": "black",
           "width": 2
          },
          "type": "rect",
          "x0": -47,
          "x1": 47,
          "y0": -25,
          "y1": 25
         },
         {
          "line": {
           "color": "black",
           "width": 2
          },
          "type": "rect",
          "x0": -47,
          "x1": -28,
          "y0": -6,
          "y1": 6
         },
         {
          "line": {
           "color": "black",
           "width": 2
          },
          "type": "rect",
          "x0": 28,
          "x1": 47,
          "y0": -6,
          "y1": 6
         },
         {
          "line": {
           "color": "black",
           "width": 2
          },
          "type": "rect",
          "x0": -47,
          "x1": -33,
          "y0": 22,
          "y1": 22
         },
         {
          "line": {
           "color": "black",
           "width": 2
          },
          "type": "rect",
          "x0": -47,
          "x1": -33,
          "y0": -22,
          "y1": -22
         },
         {
          "line": {
           "color": "black",
           "width": 2
          },
          "type": "rect",
          "x0": 33,
          "x1": 47,
          "y0": 22,
          "y1": 22
         },
         {
          "line": {
           "color": "black",
           "width": 2
          },
          "type": "rect",
          "x0": 33,
          "x1": 47,
          "y0": -22,
          "y1": -22
         },
         {
          "line": {
           "color": "black",
           "width": 2
          },
          "type": "line",
          "x0": 0,
          "x1": 0,
          "y0": -25,
          "y1": 25
         },
         {
          "line": {
           "color": "black",
           "width": 2
          },
          "type": "line",
          "x0": -43,
          "x1": -43,
          "y0": -3,
          "y1": 3
         },
         {
          "line": {
           "color": "black",
           "width": 2
          },
          "type": "line",
          "x0": 43,
          "x1": 43,
          "y0": -3,
          "y1": 3
         },
         {
          "line": {
           "color": "black",
           "width": 2
          },
          "type": "circle",
          "x0": -6,
          "x1": 6,
          "y0": -6,
          "y1": 6
         },
         {
          "line": {
           "color": "black",
           "width": 2
          },
          "type": "circle",
          "x0": 41.875,
          "x1": 42.625,
          "y0": -0.375,
          "y1": 0.375
         },
         {
          "line": {
           "color": "black",
           "width": 2
          },
          "type": "circle",
          "x0": -42.625,
          "x1": -41.875,
          "y0": -0.375,
          "y1": 0.375
         },
         {
          "line": {
           "color": "black",
           "width": 2
          },
          "type": "circle",
          "x0": -34,
          "x1": -22,
          "y0": -6,
          "y1": 6
         },
         {
          "line": {
           "color": "black",
           "width": 2
          },
          "type": "circle",
          "x0": 22,
          "x1": 34,
          "y0": -6,
          "y1": 6
         },
         {
          "line": {
           "color": "black",
           "width": 2
          },
          "path": "M -33,-22 Q -5,0 -33,22",
          "type": "path"
         },
         {
          "line": {
           "color": "black",
           "width": 2
          },
          "path": "M 33,-22 Q 5,0 33,22",
          "type": "path"
         }
        ],
        "template": {
         "data": {
          "bar": [
           {
            "error_x": {
             "color": "#2a3f5f"
            },
            "error_y": {
             "color": "#2a3f5f"
            },
            "marker": {
             "line": {
              "color": "#E5ECF6",
              "width": 0.5
             },
             "pattern": {
              "fillmode": "overlay",
              "size": 10,
              "solidity": 0.2
             }
            },
            "type": "bar"
           }
          ],
          "barpolar": [
           {
            "marker": {
             "line": {
              "color": "#E5ECF6",
              "width": 0.5
             },
             "pattern": {
              "fillmode": "overlay",
              "size": 10,
              "solidity": 0.2
             }
            },
            "type": "barpolar"
           }
          ],
          "carpet": [
           {
            "aaxis": {
             "endlinecolor": "#2a3f5f",
             "gridcolor": "white",
             "linecolor": "white",
             "minorgridcolor": "white",
             "startlinecolor": "#2a3f5f"
            },
            "baxis": {
             "endlinecolor": "#2a3f5f",
             "gridcolor": "white",
             "linecolor": "white",
             "minorgridcolor": "white",
             "startlinecolor": "#2a3f5f"
            },
            "type": "carpet"
           }
          ],
          "choropleth": [
           {
            "colorbar": {
             "outlinewidth": 0,
             "ticks": ""
            },
            "type": "choropleth"
           }
          ],
          "contour": [
           {
            "colorbar": {
             "outlinewidth": 0,
             "ticks": ""
            },
            "colorscale": [
             [
              0,
              "#0d0887"
             ],
             [
              0.1111111111111111,
              "#46039f"
             ],
             [
              0.2222222222222222,
              "#7201a8"
             ],
             [
              0.3333333333333333,
              "#9c179e"
             ],
             [
              0.4444444444444444,
              "#bd3786"
             ],
             [
              0.5555555555555556,
              "#d8576b"
             ],
             [
              0.6666666666666666,
              "#ed7953"
             ],
             [
              0.7777777777777778,
              "#fb9f3a"
             ],
             [
              0.8888888888888888,
              "#fdca26"
             ],
             [
              1,
              "#f0f921"
             ]
            ],
            "type": "contour"
           }
          ],
          "contourcarpet": [
           {
            "colorbar": {
             "outlinewidth": 0,
             "ticks": ""
            },
            "type": "contourcarpet"
           }
          ],
          "heatmap": [
           {
            "colorbar": {
             "outlinewidth": 0,
             "ticks": ""
            },
            "colorscale": [
             [
              0,
              "#0d0887"
             ],
             [
              0.1111111111111111,
              "#46039f"
             ],
             [
              0.2222222222222222,
              "#7201a8"
             ],
             [
              0.3333333333333333,
              "#9c179e"
             ],
             [
              0.4444444444444444,
              "#bd3786"
             ],
             [
              0.5555555555555556,
              "#d8576b"
             ],
             [
              0.6666666666666666,
              "#ed7953"
             ],
             [
              0.7777777777777778,
              "#fb9f3a"
             ],
             [
              0.8888888888888888,
              "#fdca26"
             ],
             [
              1,
              "#f0f921"
             ]
            ],
            "type": "heatmap"
           }
          ],
          "heatmapgl": [
           {
            "colorbar": {
             "outlinewidth": 0,
             "ticks": ""
            },
            "colorscale": [
             [
              0,
              "#0d0887"
             ],
             [
              0.1111111111111111,
              "#46039f"
             ],
             [
              0.2222222222222222,
              "#7201a8"
             ],
             [
              0.3333333333333333,
              "#9c179e"
             ],
             [
              0.4444444444444444,
              "#bd3786"
             ],
             [
              0.5555555555555556,
              "#d8576b"
             ],
             [
              0.6666666666666666,
              "#ed7953"
             ],
             [
              0.7777777777777778,
              "#fb9f3a"
             ],
             [
              0.8888888888888888,
              "#fdca26"
             ],
             [
              1,
              "#f0f921"
             ]
            ],
            "type": "heatmapgl"
           }
          ],
          "histogram": [
           {
            "marker": {
             "pattern": {
              "fillmode": "overlay",
              "size": 10,
              "solidity": 0.2
             }
            },
            "type": "histogram"
           }
          ],
          "histogram2d": [
           {
            "colorbar": {
             "outlinewidth": 0,
             "ticks": ""
            },
            "colorscale": [
             [
              0,
              "#0d0887"
             ],
             [
              0.1111111111111111,
              "#46039f"
             ],
             [
              0.2222222222222222,
              "#7201a8"
             ],
             [
              0.3333333333333333,
              "#9c179e"
             ],
             [
              0.4444444444444444,
              "#bd3786"
             ],
             [
              0.5555555555555556,
              "#d8576b"
             ],
             [
              0.6666666666666666,
              "#ed7953"
             ],
             [
              0.7777777777777778,
              "#fb9f3a"
             ],
             [
              0.8888888888888888,
              "#fdca26"
             ],
             [
              1,
              "#f0f921"
             ]
            ],
            "type": "histogram2d"
           }
          ],
          "histogram2dcontour": [
           {
            "colorbar": {
             "outlinewidth": 0,
             "ticks": ""
            },
            "colorscale": [
             [
              0,
              "#0d0887"
             ],
             [
              0.1111111111111111,
              "#46039f"
             ],
             [
              0.2222222222222222,
              "#7201a8"
             ],
             [
              0.3333333333333333,
              "#9c179e"
             ],
             [
              0.4444444444444444,
              "#bd3786"
             ],
             [
              0.5555555555555556,
              "#d8576b"
             ],
             [
              0.6666666666666666,
              "#ed7953"
             ],
             [
              0.7777777777777778,
              "#fb9f3a"
             ],
             [
              0.8888888888888888,
              "#fdca26"
             ],
             [
              1,
              "#f0f921"
             ]
            ],
            "type": "histogram2dcontour"
           }
          ],
          "mesh3d": [
           {
            "colorbar": {
             "outlinewidth": 0,
             "ticks": ""
            },
            "type": "mesh3d"
           }
          ],
          "parcoords": [
           {
            "line": {
             "colorbar": {
              "outlinewidth": 0,
              "ticks": ""
             }
            },
            "type": "parcoords"
           }
          ],
          "pie": [
           {
            "automargin": true,
            "type": "pie"
           }
          ],
          "scatter": [
           {
            "fillpattern": {
             "fillmode": "overlay",
             "size": 10,
             "solidity": 0.2
            },
            "type": "scatter"
           }
          ],
          "scatter3d": [
           {
            "line": {
             "colorbar": {
              "outlinewidth": 0,
              "ticks": ""
             }
            },
            "marker": {
             "colorbar": {
              "outlinewidth": 0,
              "ticks": ""
             }
            },
            "type": "scatter3d"
           }
          ],
          "scattercarpet": [
           {
            "marker": {
             "colorbar": {
              "outlinewidth": 0,
              "ticks": ""
             }
            },
            "type": "scattercarpet"
           }
          ],
          "scattergeo": [
           {
            "marker": {
             "colorbar": {
              "outlinewidth": 0,
              "ticks": ""
             }
            },
            "type": "scattergeo"
           }
          ],
          "scattergl": [
           {
            "marker": {
             "colorbar": {
              "outlinewidth": 0,
              "ticks": ""
             }
            },
            "type": "scattergl"
           }
          ],
          "scattermapbox": [
           {
            "marker": {
             "colorbar": {
              "outlinewidth": 0,
              "ticks": ""
             }
            },
            "type": "scattermapbox"
           }
          ],
          "scatterpolar": [
           {
            "marker": {
             "colorbar": {
              "outlinewidth": 0,
              "ticks": ""
             }
            },
            "type": "scatterpolar"
           }
          ],
          "scatterpolargl": [
           {
            "marker": {
             "colorbar": {
              "outlinewidth": 0,
              "ticks": ""
             }
            },
            "type": "scatterpolargl"
           }
          ],
          "scatterternary": [
           {
            "marker": {
             "colorbar": {
              "outlinewidth": 0,
              "ticks": ""
             }
            },
            "type": "scatterternary"
           }
          ],
          "surface": [
           {
            "colorbar": {
             "outlinewidth": 0,
             "ticks": ""
            },
            "colorscale": [
             [
              0,
              "#0d0887"
             ],
             [
              0.1111111111111111,
              "#46039f"
             ],
             [
              0.2222222222222222,
              "#7201a8"
             ],
             [
              0.3333333333333333,
              "#9c179e"
             ],
             [
              0.4444444444444444,
              "#bd3786"
             ],
             [
              0.5555555555555556,
              "#d8576b"
             ],
             [
              0.6666666666666666,
              "#ed7953"
             ],
             [
              0.7777777777777778,
              "#fb9f3a"
             ],
             [
              0.8888888888888888,
              "#fdca26"
             ],
             [
              1,
              "#f0f921"
             ]
            ],
            "type": "surface"
           }
          ],
          "table": [
           {
            "cells": {
             "fill": {
              "color": "#EBF0F8"
             },
             "line": {
              "color": "white"
             }
            },
            "header": {
             "fill": {
              "color": "#C8D4E3"
             },
             "line": {
              "color": "white"
             }
            },
            "type": "table"
           }
          ]
         },
         "layout": {
          "annotationdefaults": {
           "arrowcolor": "#2a3f5f",
           "arrowhead": 0,
           "arrowwidth": 1
          },
          "autotypenumbers": "strict",
          "coloraxis": {
           "colorbar": {
            "outlinewidth": 0,
            "ticks": ""
           }
          },
          "colorscale": {
           "diverging": [
            [
             0,
             "#8e0152"
            ],
            [
             0.1,
             "#c51b7d"
            ],
            [
             0.2,
             "#de77ae"
            ],
            [
             0.3,
             "#f1b6da"
            ],
            [
             0.4,
             "#fde0ef"
            ],
            [
             0.5,
             "#f7f7f7"
            ],
            [
             0.6,
             "#e6f5d0"
            ],
            [
             0.7,
             "#b8e186"
            ],
            [
             0.8,
             "#7fbc41"
            ],
            [
             0.9,
             "#4d9221"
            ],
            [
             1,
             "#276419"
            ]
           ],
           "sequential": [
            [
             0,
             "#0d0887"
            ],
            [
             0.1111111111111111,
             "#46039f"
            ],
            [
             0.2222222222222222,
             "#7201a8"
            ],
            [
             0.3333333333333333,
             "#9c179e"
            ],
            [
             0.4444444444444444,
             "#bd3786"
            ],
            [
             0.5555555555555556,
             "#d8576b"
            ],
            [
             0.6666666666666666,
             "#ed7953"
            ],
            [
             0.7777777777777778,
             "#fb9f3a"
            ],
            [
             0.8888888888888888,
             "#fdca26"
            ],
            [
             1,
             "#f0f921"
            ]
           ],
           "sequentialminus": [
            [
             0,
             "#0d0887"
            ],
            [
             0.1111111111111111,
             "#46039f"
            ],
            [
             0.2222222222222222,
             "#7201a8"
            ],
            [
             0.3333333333333333,
             "#9c179e"
            ],
            [
             0.4444444444444444,
             "#bd3786"
            ],
            [
             0.5555555555555556,
             "#d8576b"
            ],
            [
             0.6666666666666666,
             "#ed7953"
            ],
            [
             0.7777777777777778,
             "#fb9f3a"
            ],
            [
             0.8888888888888888,
             "#fdca26"
            ],
            [
             1,
             "#f0f921"
            ]
           ]
          },
          "colorway": [
           "#636efa",
           "#EF553B",
           "#00cc96",
           "#ab63fa",
           "#FFA15A",
           "#19d3f3",
           "#FF6692",
           "#B6E880",
           "#FF97FF",
           "#FECB52"
          ],
          "font": {
           "color": "#2a3f5f"
          },
          "geo": {
           "bgcolor": "white",
           "lakecolor": "white",
           "landcolor": "#E5ECF6",
           "showlakes": true,
           "showland": true,
           "subunitcolor": "white"
          },
          "hoverlabel": {
           "align": "left"
          },
          "hovermode": "closest",
          "mapbox": {
           "style": "light"
          },
          "paper_bgcolor": "white",
          "plot_bgcolor": "#E5ECF6",
          "polar": {
           "angularaxis": {
            "gridcolor": "white",
            "linecolor": "white",
            "ticks": ""
           },
           "bgcolor": "#E5ECF6",
           "radialaxis": {
            "gridcolor": "white",
            "linecolor": "white",
            "ticks": ""
           }
          },
          "scene": {
           "xaxis": {
            "backgroundcolor": "#E5ECF6",
            "gridcolor": "white",
            "gridwidth": 2,
            "linecolor": "white",
            "showbackground": true,
            "ticks": "",
            "zerolinecolor": "white"
           },
           "yaxis": {
            "backgroundcolor": "#E5ECF6",
            "gridcolor": "white",
            "gridwidth": 2,
            "linecolor": "white",
            "showbackground": true,
            "ticks": "",
            "zerolinecolor": "white"
           },
           "zaxis": {
            "backgroundcolor": "#E5ECF6",
            "gridcolor": "white",
            "gridwidth": 2,
            "linecolor": "white",
            "showbackground": true,
            "ticks": "",
            "zerolinecolor": "white"
           }
          },
          "shapedefaults": {
           "line": {
            "color": "#2a3f5f"
           }
          },
          "ternary": {
           "aaxis": {
            "gridcolor": "white",
            "linecolor": "white",
            "ticks": ""
           },
           "baxis": {
            "gridcolor": "white",
            "linecolor": "white",
            "ticks": ""
           },
           "bgcolor": "#E5ECF6",
           "caxis": {
            "gridcolor": "white",
            "linecolor": "white",
            "ticks": ""
           }
          },
          "title": {
           "x": 0.05
          },
          "xaxis": {
           "automargin": true,
           "gridcolor": "white",
           "linecolor": "white",
           "ticks": "",
           "title": {
            "standoff": 15
           },
           "zerolinecolor": "white",
           "zerolinewidth": 2
          },
          "yaxis": {
           "automargin": true,
           "gridcolor": "white",
           "linecolor": "white",
           "ticks": "",
           "title": {
            "standoff": 15
           },
           "zerolinecolor": "white",
           "zerolinewidth": 2
          }
         }
        },
        "xaxis": {
         "anchor": "y",
         "domain": [
          0,
          1
         ]
        },
        "yaxis": {
         "anchor": "x",
         "domain": [
          0,
          1
         ]
        }
       }
      }
     },
     "metadata": {},
     "output_type": "display_data"
    }
   ],
   "source": [
    "get_basketball_court_fig().show()"
   ]
  },
  {
   "attachments": {},
   "cell_type": "markdown",
   "metadata": {},
   "source": [
    "### Old"
   ]
  },
  {
   "cell_type": "code",
   "execution_count": null,
   "metadata": {},
   "outputs": [],
   "source": [
    "# import plotly.graph_objects as go  # or plotly.express as px\n",
    "\n",
    "\n",
    "# import dash\n",
    "# import dash_core_components as dcc\n",
    "# import dash_html_components as html\n",
    "\n",
    "# app = dash.Dash()\n",
    "\n",
    "# styles = {\"pre\": {\"border\": \"thin lightgrey solid\", \"overflowX\": \"scroll\"}}\n",
    "\n",
    "# fig = get_drive_animation(graph_data)\n",
    "\n",
    "# GS = 100\n",
    "# # fig.add_traces(\n",
    "# #     px.scatter(\n",
    "# #         x=np.repeat(np.linspace(-50, 50, GS), GS),\n",
    "# #         y=np.tile(np.linspace(-25, 25, GS), GS),\n",
    "# #     )\n",
    "# #     .update_traces(marker_color=\"rgba(0,0,0,0)\")\n",
    "# #     .data\n",
    "# # )\n",
    "\n",
    "# # fig.update_layout(dragmode='drawopenpath')\n",
    "# fig.update_layout(clickmode='event+select')\n",
    "\n",
    "\n",
    "\n",
    "# options = [{\"label\": str(i), \"value\": i} for i in graph_data]\n",
    "\n",
    "# clicked = []\n",
    "\n",
    "# app.layout = html.Div(\n",
    "#     [\n",
    "#         dcc.Dropdown(id=\"dropdown\", options=options, value=0),\n",
    "#         dcc.Graph(id=\"graph-court\", figure=fig),\n",
    "#         html.Div(\n",
    "#             className=\"row\",\n",
    "#             children=[\n",
    "#                 html.Div(\n",
    "#                     [\n",
    "#                         dcc.Markdown(d(\"\"\"Hoverdata using figure references\"\"\")),\n",
    "#                         html.Pre(id=\"hoverdata2\", style=styles[\"pre\"]),\n",
    "#                     ],\n",
    "#                     className=\"three columns\",\n",
    "#                 ),\n",
    "#                 html.Div(\n",
    "#                     [\n",
    "#                         dcc.Markdown(\n",
    "#                             d(\"\"\"Full hoverdata\"\"\")\n",
    "#                         ),\n",
    "#                         html.Pre(id=\"hoverdata1\", style=styles[\"pre\"]),\n",
    "#                     ],\n",
    "#                     className=\"three columns\",\n",
    "#                 ),\n",
    "#             ],\n",
    "#         ),\n",
    "#     ]\n",
    "# )\n",
    "\n",
    "\n",
    "# store = []\n",
    "\n",
    "\n",
    "# # @app.callback(\n",
    "# #     Output(\"graph-court\", \"figure\"),\n",
    "# #     Output(\"hoverdata1\", \"children\"),\n",
    "# #     # Output(\"hoverdata2\", \"children\"),\n",
    "# #     [Input(\"graph-court\", \"clickData\")],\n",
    "# #     prevent_initial_call=True,\n",
    "# # )\n",
    "# # def display_hover_data(hoverData):\n",
    "# #     if hoverData is not None:\n",
    "# #         traceref = hoverData[\"points\"][0][\"curveNumber\"]\n",
    "# #         pointref = hoverData[\"points\"][0][\"pointNumber\"]\n",
    "# #         store.append(\n",
    "# #             [\n",
    "# #                 fig.data[traceref][\"name\"],\n",
    "# #                 fig.data[traceref][\"x\"][pointref],\n",
    "# #                 fig.data[traceref][\"y\"][pointref],\n",
    "# #             ]\n",
    "# #         )\n",
    "# #         fig.update_layout(title=\"Last label was \" + fig.data[traceref][\"name\"])\n",
    "# #         return fig, json.dumps(hoverData, indent=2)\n",
    "# #     else:\n",
    "# #         return fig, \"None selected\"\n",
    "    \n",
    "# @app.callback(\n",
    "#     Output('graph-court', 'figure'),\n",
    "#     Input('graph-court', 'selectedData'))\n",
    "# def display_selected_data(selectedData):\n",
    "#     if selectedData:\n",
    "#         lasso_points = selectedData['lassoPoints']\n",
    "#         x = lasso_points['x']\n",
    "#         y = lasso_points['y']\n",
    "#         # add a line trace for selected points\n",
    "#         fig.add_trace(go.Scatter(x=x, y=y, mode='lines', line=dict(color='gray', dash='dash'), showlegend=False))\n",
    "\n",
    "#         return fig\n",
    "\n",
    "# @app.callback(\n",
    "#     Output('hoverdata2', 'children'),\n",
    "#     Input('graph-court', 'clickAnnotationData'))\n",
    "# def display_selected_data(selectedData):\n",
    "#     return json.dumps(selectedData, indent=2)\n",
    "\n",
    "\n",
    "# app.run_server(debug=True, use_reloader=False)"
   ]
  },
  {
   "cell_type": "code",
   "execution_count": null,
   "metadata": {},
   "outputs": [],
   "source": []
  }
 ],
 "metadata": {
  "kernelspec": {
   "display_name": "Python 3",
   "language": "python",
   "name": "python3"
  },
  "language_info": {
   "codemirror_mode": {
    "name": "ipython",
    "version": 3
   },
   "file_extension": ".py",
   "mimetype": "text/x-python",
   "name": "python",
   "nbconvert_exporter": "python",
   "pygments_lexer": "ipython3",
   "version": "3.11.2"
  },
  "orig_nbformat": 4
 },
 "nbformat": 4,
 "nbformat_minor": 2
}
