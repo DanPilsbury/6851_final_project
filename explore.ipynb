{
 "cells": [
  {
   "cell_type": "code",
   "execution_count": 5,
   "metadata": {},
   "outputs": [],
   "source": [
    "import requests\n",
    "from bs4 import BeautifulSoup\n",
    "import pandas as pd\n",
    "import speech_recognition as sr\n",
    "import tkinter"
   ]
  },
  {
   "cell_type": "code",
   "execution_count": 6,
   "metadata": {},
   "outputs": [],
   "source": [
    "def get_roster(team):\n",
    "    url = f\"https://data.nba.com/data/v2022/json/mobile_teams/nba/2022/teams/{team}_roster.json\"\n",
    "    res = requests.get(url)\n",
    "    j = res.json()\n",
    "    players = j['data']['t']['pl']\n",
    "    return [{\n",
    "        \"name\": f\"{player['fn']} {player['ln']}\",\n",
    "        \"number\": player['num'],\n",
    "        \"pos\": player['pos'],\n",
    "    } for player in players]"
   ]
  },
  {
   "cell_type": "code",
   "execution_count": 7,
   "metadata": {},
   "outputs": [],
   "source": [
    "position_order = {\n",
    "    \"PG\": 1,\n",
    "    \"SG\": 2,\n",
    "    \"SF\": 3,\n",
    "    \"PF\": 4,\n",
    "    \"C\": 5,\n",
    "}"
   ]
  },
  {
   "cell_type": "code",
   "execution_count": 8,
   "metadata": {},
   "outputs": [],
   "source": [
    "team_endpoints = {\n",
    "    'celtics': 'bos/boston-celtics',\n",
    "    'hawks': 'atl/atlanta-hawks',\n",
    "    'bucks': 'mil/milwaukee-bucks',\n",
    "    'bulls': 'chi/chicago-bulls',\n",
    "    'cavaliers': 'cle/cleveland-cavaliers',\n",
    "    'clippers': 'lac/la-clippers',\n",
    "    'grizzlies': 'mem/memphis-grizzlies',\n",
    "    'heat': 'mia/miami-heat',\n",
    "    'hornets': 'cha/charlotte-hornets',\n",
    "    'jazz': 'uta/utah-jazz',\n",
    "    'kings': 'sac/sacramento-kings',\n",
    "    'knicks': 'nyk/new-york-knicks',\n",
    "    'lakers': 'lal/los-angeles-lakers',\n",
    "    'magic': 'orl/orlando-magic',\n",
    "    'mavericks': 'dal/dallas-mavericks',\n",
    "    'nets': 'bkn/brooklyn-nets',\n",
    "    'nuggets': 'den/denver-nuggets',\n",
    "    'pacers': 'ind/indiana-pacers',\n",
    "    'pelicans': 'nor/new-orleans-pelicans',\n",
    "    'pistons': 'det/detroit-pistons',\n",
    "    'raptors': 'tor/toronto-raptors',\n",
    "    'rockets': 'hou/houston-rockets',\n",
    "    'sixers': 'phi/philadelphia-76ers',\n",
    "    'spurs': 'sas/san-antonio-spurs',\n",
    "    'suns': 'phx/phoenix-suns',\n",
    "    'thunder': 'okc/oklahoma-city-thunder',\n",
    "    'timberwolves': 'min/minnesota-timberwolves',\n",
    "    'warriors': 'gsw/golden-state-warriors',\n",
    "    'wizards': 'was/washington-wizards',\n",
    "}"
   ]
  },
  {
   "cell_type": "code",
   "execution_count": 9,
   "metadata": {},
   "outputs": [],
   "source": [
    "def get_depth_chart(team_endpoint):\n",
    "    url = f\"https://www.espn.com/nba/team/depth/_/name/{team_endpoint}\"\n",
    "    r = requests.get(url)\n",
    "    soup = BeautifulSoup(r.content, 'html.parser')\n",
    "    table = soup.find_all(\"div\", {\"class\": \"nfl-depth-table\"})[0]\n",
    "    depth_chart = {}\n",
    "    for i in range(5):\n",
    "        position, row = table.find_all(\"tr\", attrs={\"data-idx\": f\"{i}\"})\n",
    "        players = row.findAll(\"a\", attrs={\"class\": \"AnchorLink\"})\n",
    "        depth_chart[position.text.strip()] = [player.text for player in players]\n",
    "    return depth_chart"
   ]
  },
  {
   "cell_type": "code",
   "execution_count": null,
   "metadata": {},
   "outputs": [],
   "source": []
  },
  {
   "cell_type": "code",
   "execution_count": 10,
   "metadata": {},
   "outputs": [],
   "source": [
    "def get_players_depth_ranks(depth_chart):\n",
    "    player_depth_ranks = {}\n",
    "    for position, players in depth_chart.items():\n",
    "        for i, player in enumerate(players):\n",
    "            pos_rank = position_order[position]\n",
    "            if player not in player_depth_ranks:\n",
    "                cur_rank = float('inf'), pos_rank\n",
    "            else:\n",
    "                cur_rank = player_depth_ranks[player]\n",
    "            new_rank = i, pos_rank\n",
    "            player_depth_ranks[player] = min(new_rank, cur_rank)\n",
    "    return player_depth_ranks"
   ]
  },
  {
   "cell_type": "code",
   "execution_count": 11,
   "metadata": {},
   "outputs": [],
   "source": [
    "roster_data = get_roster('celtics')"
   ]
  },
  {
   "cell_type": "code",
   "execution_count": 12,
   "metadata": {},
   "outputs": [],
   "source": [
    "depth_chart = get_depth_chart(team_endpoints['celtics'])\n",
    "player_ranks = get_players_depth_ranks(depth_chart)"
   ]
  },
  {
   "cell_type": "code",
   "execution_count": 13,
   "metadata": {},
   "outputs": [],
   "source": [
    "roster_data.sort(key=lambda player: player_ranks.get(player['name'], (float('inf'), float('inf'))))"
   ]
  },
  {
   "cell_type": "code",
   "execution_count": 14,
   "metadata": {},
   "outputs": [],
   "source": [
    "roster_df = pd.DataFrame(roster_data)"
   ]
  },
  {
   "cell_type": "code",
   "execution_count": 15,
   "metadata": {},
   "outputs": [],
   "source": [
    "def get_roster_dataframe(team):\n",
    "    team_abbr = team_roster_hrefs[team]\n",
    "    roster_data = get_roster(team_abbr)\n",
    "    depth_chart = get_depth_chart(team_endpoints[team_abbr])\n",
    "    player_ranks = get_players_depth_ranks(depth_chart)\n",
    "    roster_data.sort(key=lambda player: player_ranks.get(player['name'], (float('inf'), float('inf'))))\n",
    "    return pd.DataFrame(roster_data)"
   ]
  },
  {
   "cell_type": "code",
   "execution_count": 16,
   "metadata": {},
   "outputs": [
    {
     "ename": "NameError",
     "evalue": "name 'team_roster_hrefs' is not defined",
     "output_type": "error",
     "traceback": [
      "\u001b[0;31m---------------------------------------------------------------------------\u001b[0m",
      "\u001b[0;31mNameError\u001b[0m                                 Traceback (most recent call last)",
      "Cell \u001b[0;32mIn[16], line 1\u001b[0m\n\u001b[0;32m----> 1\u001b[0m \u001b[39mfor\u001b[39;00m team \u001b[39min\u001b[39;00m team_roster_hrefs:\n\u001b[1;32m      2\u001b[0m     \u001b[39mtry\u001b[39;00m:\n\u001b[1;32m      3\u001b[0m         get_roster_dataframe(team)\n",
      "\u001b[0;31mNameError\u001b[0m: name 'team_roster_hrefs' is not defined"
     ]
    }
   ],
   "source": [
    "for team in team_roster_hrefs:\n",
    "    try:\n",
    "        get_roster_dataframe(team)\n",
    "    except:\n",
    "        print(team)"
   ]
  },
  {
   "cell_type": "code",
   "execution_count": 17,
   "metadata": {},
   "outputs": [],
   "source": [
    "def swap_players(dataframe, index1, index2):\n",
    "    tmp = dataframe.iloc[index1].copy()\n",
    "    dataframe.iloc[index1] = dataframe.iloc[index2]\n",
    "    dataframe.iloc[index2] = tmp"
   ]
  },
  {
   "cell_type": "code",
   "execution_count": 18,
   "metadata": {},
   "outputs": [],
   "source": [
    "stats_df = pd.read_csv(\"data/nba-reference-per-game-2023.csv\", index_col=0)"
   ]
  },
  {
   "cell_type": "code",
   "execution_count": 19,
   "metadata": {},
   "outputs": [],
   "source": [
    "per_game_stats = {}\n",
    "for i, data in stats_df.iterrows():\n",
    "    player, rest = data['Player'], data[1:]\n",
    "    per_game_stats[player] = rest.to_dict()"
   ]
  },
  {
   "cell_type": "code",
   "execution_count": 20,
   "metadata": {},
   "outputs": [
    {
     "name": "stdout",
     "output_type": "stream",
     "text": [
      "Robert Williams III\n"
     ]
    }
   ],
   "source": [
    "for player in player_ranks:\n",
    "    if player not in per_game_stats:\n",
    "        print(player)"
   ]
  },
  {
   "cell_type": "code",
   "execution_count": 21,
   "metadata": {},
   "outputs": [],
   "source": [
    "special_names = {\n",
    "    \"Robert Williams\": \"Robert Williams III\",\n",
    "}"
   ]
  },
  {
   "cell_type": "code",
   "execution_count": 22,
   "metadata": {},
   "outputs": [
    {
     "data": {
      "text/html": [
       "<div>\n",
       "<style scoped>\n",
       "    .dataframe tbody tr th:only-of-type {\n",
       "        vertical-align: middle;\n",
       "    }\n",
       "\n",
       "    .dataframe tbody tr th {\n",
       "        vertical-align: top;\n",
       "    }\n",
       "\n",
       "    .dataframe thead th {\n",
       "        text-align: right;\n",
       "    }\n",
       "</style>\n",
       "<table border=\"1\" class=\"dataframe\">\n",
       "  <thead>\n",
       "    <tr style=\"text-align: right;\">\n",
       "      <th></th>\n",
       "      <th>Player</th>\n",
       "      <th>Pos</th>\n",
       "      <th>Age</th>\n",
       "      <th>Tm</th>\n",
       "      <th>G</th>\n",
       "      <th>GS</th>\n",
       "      <th>MP</th>\n",
       "      <th>FG</th>\n",
       "      <th>FGA</th>\n",
       "      <th>FG%</th>\n",
       "      <th>...</th>\n",
       "      <th>ORB</th>\n",
       "      <th>DRB</th>\n",
       "      <th>TRB</th>\n",
       "      <th>AST</th>\n",
       "      <th>STL</th>\n",
       "      <th>BLK</th>\n",
       "      <th>TOV</th>\n",
       "      <th>PF</th>\n",
       "      <th>PTS</th>\n",
       "      <th>Player-additional</th>\n",
       "    </tr>\n",
       "    <tr>\n",
       "      <th>Rk</th>\n",
       "      <th></th>\n",
       "      <th></th>\n",
       "      <th></th>\n",
       "      <th></th>\n",
       "      <th></th>\n",
       "      <th></th>\n",
       "      <th></th>\n",
       "      <th></th>\n",
       "      <th></th>\n",
       "      <th></th>\n",
       "      <th></th>\n",
       "      <th></th>\n",
       "      <th></th>\n",
       "      <th></th>\n",
       "      <th></th>\n",
       "      <th></th>\n",
       "      <th></th>\n",
       "      <th></th>\n",
       "      <th></th>\n",
       "      <th></th>\n",
       "      <th></th>\n",
       "    </tr>\n",
       "  </thead>\n",
       "  <tbody>\n",
       "    <tr>\n",
       "      <th>449</th>\n",
       "      <td>Marcus Smart</td>\n",
       "      <td>PG</td>\n",
       "      <td>28</td>\n",
       "      <td>BOS</td>\n",
       "      <td>61</td>\n",
       "      <td>61</td>\n",
       "      <td>32.1</td>\n",
       "      <td>4.1</td>\n",
       "      <td>9.9</td>\n",
       "      <td>0.415</td>\n",
       "      <td>...</td>\n",
       "      <td>0.8</td>\n",
       "      <td>2.4</td>\n",
       "      <td>3.1</td>\n",
       "      <td>6.3</td>\n",
       "      <td>1.5</td>\n",
       "      <td>0.4</td>\n",
       "      <td>2.3</td>\n",
       "      <td>2.8</td>\n",
       "      <td>11.5</td>\n",
       "      <td>smartma01</td>\n",
       "    </tr>\n",
       "  </tbody>\n",
       "</table>\n",
       "<p>1 rows × 30 columns</p>\n",
       "</div>"
      ],
      "text/plain": [
       "           Player Pos  Age   Tm   G  GS    MP   FG  FGA    FG%  ...  ORB  DRB  \\\n",
       "Rk                                                              ...             \n",
       "449  Marcus Smart  PG   28  BOS  61  61  32.1  4.1  9.9  0.415  ...  0.8  2.4   \n",
       "\n",
       "     TRB  AST  STL  BLK  TOV   PF   PTS  Player-additional  \n",
       "Rk                                                          \n",
       "449  3.1  6.3  1.5  0.4  2.3  2.8  11.5          smartma01  \n",
       "\n",
       "[1 rows x 30 columns]"
      ]
     },
     "execution_count": 22,
     "metadata": {},
     "output_type": "execute_result"
    }
   ],
   "source": [
    "stats_df[stats_df['Player'] == 'Marcus Smart']"
   ]
  },
  {
   "cell_type": "code",
   "execution_count": 23,
   "metadata": {},
   "outputs": [
    {
     "data": {
      "text/html": [
       "<div>\n",
       "<style scoped>\n",
       "    .dataframe tbody tr th:only-of-type {\n",
       "        vertical-align: middle;\n",
       "    }\n",
       "\n",
       "    .dataframe tbody tr th {\n",
       "        vertical-align: top;\n",
       "    }\n",
       "\n",
       "    .dataframe thead th {\n",
       "        text-align: right;\n",
       "    }\n",
       "</style>\n",
       "<table border=\"1\" class=\"dataframe\">\n",
       "  <thead>\n",
       "    <tr style=\"text-align: right;\">\n",
       "      <th></th>\n",
       "      <th>Pos</th>\n",
       "      <th>Age</th>\n",
       "      <th>Tm</th>\n",
       "      <th>G</th>\n",
       "      <th>GS</th>\n",
       "      <th>MP</th>\n",
       "      <th>FG</th>\n",
       "      <th>FGA</th>\n",
       "      <th>FG%</th>\n",
       "      <th>3P</th>\n",
       "      <th>...</th>\n",
       "      <th>ORB</th>\n",
       "      <th>DRB</th>\n",
       "      <th>TRB</th>\n",
       "      <th>AST</th>\n",
       "      <th>STL</th>\n",
       "      <th>BLK</th>\n",
       "      <th>TOV</th>\n",
       "      <th>PF</th>\n",
       "      <th>PTS</th>\n",
       "      <th>Player-additional</th>\n",
       "    </tr>\n",
       "  </thead>\n",
       "  <tbody>\n",
       "    <tr>\n",
       "      <th>Marcus Smart</th>\n",
       "      <td>PG</td>\n",
       "      <td>28</td>\n",
       "      <td>BOS</td>\n",
       "      <td>61</td>\n",
       "      <td>61</td>\n",
       "      <td>32.1</td>\n",
       "      <td>4.1</td>\n",
       "      <td>9.9</td>\n",
       "      <td>0.415</td>\n",
       "      <td>1.9</td>\n",
       "      <td>...</td>\n",
       "      <td>0.8</td>\n",
       "      <td>2.4</td>\n",
       "      <td>3.1</td>\n",
       "      <td>6.3</td>\n",
       "      <td>1.5</td>\n",
       "      <td>0.4</td>\n",
       "      <td>2.3</td>\n",
       "      <td>2.8</td>\n",
       "      <td>11.5</td>\n",
       "      <td>smartma01</td>\n",
       "    </tr>\n",
       "  </tbody>\n",
       "</table>\n",
       "<p>1 rows × 29 columns</p>\n",
       "</div>"
      ],
      "text/plain": [
       "             Pos  Age   Tm   G  GS    MP   FG  FGA    FG%   3P  ...  ORB  DRB  \\\n",
       "Marcus Smart  PG   28  BOS  61  61  32.1  4.1  9.9  0.415  1.9  ...  0.8  2.4   \n",
       "\n",
       "              TRB  AST  STL  BLK  TOV   PF   PTS  Player-additional  \n",
       "Marcus Smart  3.1  6.3  1.5  0.4  2.3  2.8  11.5          smartma01  \n",
       "\n",
       "[1 rows x 29 columns]"
      ]
     },
     "execution_count": 23,
     "metadata": {},
     "output_type": "execute_result"
    }
   ],
   "source": [
    "name = 'Marcus Smart'\n",
    "pd.DataFrame.from_dict({name: per_game_stats[name]}, orient='index')"
   ]
  },
  {
   "cell_type": "code",
   "execution_count": 24,
   "metadata": {},
   "outputs": [
    {
     "name": "stdout",
     "output_type": "stream",
     "text": [
      "Recognizing...\n"
     ]
    },
    {
     "ename": "UnknownValueError",
     "evalue": "",
     "output_type": "error",
     "traceback": [
      "\u001b[0;31m---------------------------------------------------------------------------\u001b[0m",
      "\u001b[0;31mUnknownValueError\u001b[0m                         Traceback (most recent call last)",
      "Cell \u001b[0;32mIn[24], line 7\u001b[0m\n\u001b[1;32m      5\u001b[0m \u001b[39mprint\u001b[39m(\u001b[39m\"\u001b[39m\u001b[39mRecognizing...\u001b[39m\u001b[39m\"\u001b[39m)\n\u001b[1;32m      6\u001b[0m \u001b[39m# convert speech to text\u001b[39;00m\n\u001b[0;32m----> 7\u001b[0m text \u001b[39m=\u001b[39m r\u001b[39m.\u001b[39;49mrecognize_google(audio_data)\n\u001b[1;32m      8\u001b[0m \u001b[39mprint\u001b[39m(text)\n",
      "File \u001b[0;32m~/.pyenv/versions/3.11.2/lib/python3.11/site-packages/speech_recognition/__init__.py:728\u001b[0m, in \u001b[0;36mRecognizer.recognize_google\u001b[0;34m(self, audio_data, key, language, pfilter, show_all, with_confidence)\u001b[0m\n\u001b[1;32m    725\u001b[0m \u001b[39mif\u001b[39;00m show_all:\n\u001b[1;32m    726\u001b[0m     \u001b[39mreturn\u001b[39;00m actual_result\n\u001b[0;32m--> 728\u001b[0m \u001b[39mif\u001b[39;00m \u001b[39mnot\u001b[39;00m \u001b[39misinstance\u001b[39m(actual_result, \u001b[39mdict\u001b[39m) \u001b[39mor\u001b[39;00m \u001b[39mlen\u001b[39m(actual_result\u001b[39m.\u001b[39mget(\u001b[39m\"\u001b[39m\u001b[39malternative\u001b[39m\u001b[39m\"\u001b[39m, [])) \u001b[39m==\u001b[39m \u001b[39m0\u001b[39m: \u001b[39mraise\u001b[39;00m UnknownValueError()\n\u001b[1;32m    730\u001b[0m \u001b[39mif\u001b[39;00m \u001b[39m\"\u001b[39m\u001b[39mconfidence\u001b[39m\u001b[39m\"\u001b[39m \u001b[39min\u001b[39;00m actual_result[\u001b[39m\"\u001b[39m\u001b[39malternative\u001b[39m\u001b[39m\"\u001b[39m]:\n\u001b[1;32m    731\u001b[0m     \u001b[39m# return alternative with highest confidence score\u001b[39;00m\n\u001b[1;32m    732\u001b[0m     best_hypothesis \u001b[39m=\u001b[39m \u001b[39mmax\u001b[39m(actual_result[\u001b[39m\"\u001b[39m\u001b[39malternative\u001b[39m\u001b[39m\"\u001b[39m], key\u001b[39m=\u001b[39m\u001b[39mlambda\u001b[39;00m alternative: alternative[\u001b[39m\"\u001b[39m\u001b[39mconfidence\u001b[39m\u001b[39m\"\u001b[39m])\n",
      "\u001b[0;31mUnknownValueError\u001b[0m: "
     ]
    }
   ],
   "source": [
    "r = sr.Recognizer()\n",
    "with sr.Microphone() as source:\n",
    "    # read the audio data from the default microphone\n",
    "    audio_data = r.record(source, duration=5)\n",
    "    print(\"Recognizing...\")\n",
    "    # convert speech to text\n",
    "    text = r.recognize_google(audio_data)\n",
    "    print(text)"
   ]
  },
  {
   "cell_type": "code",
   "execution_count": 26,
   "metadata": {},
   "outputs": [],
   "source": [
    "def record_audio():\n",
    "    r = sr.Recognizer()\n",
    "    with sr.Microphone() as source:\n",
    "        # read the audio data from the default microphone\n",
    "        audio_data = r.record(source, duration=5)\n",
    "        print(\"Recognizing...\")\n",
    "        # convert speech to text\n",
    "        text = r.recognize_google(audio_data)\n",
    "        print(text)\n",
    "        return text\n",
    "    "
   ]
  },
  {
   "cell_type": "code",
   "execution_count": null,
   "metadata": {},
   "outputs": [
    {
     "name": "stdout",
     "output_type": "stream",
     "text": [
      "Recognizing...\n",
      "show me the Minnesota Timberwolves\n"
     ]
    },
    {
     "data": {
      "text/plain": [
       "'show me the Minnesota Timberwolves'"
      ]
     },
     "execution_count": 210,
     "metadata": {},
     "output_type": "execute_result"
    }
   ],
   "source": [
    "record_audio()"
   ]
  },
  {
   "cell_type": "code",
   "execution_count": 27,
   "metadata": {},
   "outputs": [],
   "source": [
    "def get_team_roster_hrefs():\n",
    "    url = f\"https://www.nba.com/teams\"\n",
    "    r = requests.get(url)\n",
    "    soup = BeautifulSoup(r.content, 'html.parser')\n",
    "    teams = soup.find_all(\"a\", {\"class\": \"Anchor_anchor__cSc3P TeamFigure_tfMainLink__OPLFu\"})\n",
    "\n",
    "    team_roster_hrefs = {}\n",
    "    for team in teams:\n",
    "        href = team['href'].split('/')[1]\n",
    "        team_roster_hrefs[team.text] = href\n",
    "\n",
    "    return team_roster_hrefs"
   ]
  },
  {
   "cell_type": "code",
   "execution_count": 28,
   "metadata": {},
   "outputs": [],
   "source": [
    "team_roster_hrefs = get_team_roster_hrefs()"
   ]
  },
  {
   "cell_type": "code",
   "execution_count": 29,
   "metadata": {},
   "outputs": [
    {
     "data": {
      "text/plain": [
       "{'Boston Celtics': 'celtics',\n",
       " 'Brooklyn Nets': 'nets',\n",
       " 'New York Knicks': 'knicks',\n",
       " 'Philadelphia 76ers': 'sixers',\n",
       " 'Toronto Raptors': 'raptors',\n",
       " 'Chicago Bulls': 'bulls',\n",
       " 'Cleveland Cavaliers': 'cavaliers',\n",
       " 'Detroit Pistons': 'pistons',\n",
       " 'Indiana Pacers': 'pacers',\n",
       " 'Milwaukee Bucks': 'bucks',\n",
       " 'Atlanta Hawks': 'hawks',\n",
       " 'Charlotte Hornets': 'hornets',\n",
       " 'Miami Heat': 'heat',\n",
       " 'Orlando Magic': 'magic',\n",
       " 'Washington Wizards': 'wizards',\n",
       " 'Denver Nuggets': 'nuggets',\n",
       " 'Minnesota Timberwolves': 'timberwolves',\n",
       " 'Oklahoma City Thunder': 'thunder',\n",
       " 'Portland Trail Blazers': 'blazers',\n",
       " 'Utah Jazz': 'jazz',\n",
       " 'Golden State Warriors': 'warriors',\n",
       " 'LA Clippers': 'clippers',\n",
       " 'Los Angeles Lakers': 'lakers',\n",
       " 'Phoenix Suns': 'suns',\n",
       " 'Sacramento Kings': 'kings',\n",
       " 'Dallas Mavericks': 'mavericks',\n",
       " 'Houston Rockets': 'rockets',\n",
       " 'Memphis Grizzlies': 'grizzlies',\n",
       " 'New Orleans Pelicans': 'pelicans',\n",
       " 'San Antonio Spurs': 'spurs'}"
      ]
     },
     "execution_count": 29,
     "metadata": {},
     "output_type": "execute_result"
    }
   ],
   "source": [
    "team_roster_hrefs"
   ]
  },
  {
   "cell_type": "code",
   "execution_count": 30,
   "metadata": {},
   "outputs": [],
   "source": [
    "def example_interaction():\n",
    "    state = 0\n",
    "    while True:\n",
    "        match state:\n",
    "            case 0:\n",
    "                print(\"What team roster would you like to see?\")\n",
    "                team = record_audio()\n",
    "                roster_df = get_roster_dataframe(team)\n",
    "                print(roster_df)\n",
    "                state = 1\n",
    "            case 1:\n",
    "                break"
   ]
  },
  {
   "cell_type": "code",
   "execution_count": null,
   "metadata": {},
   "outputs": [
    {
     "name": "stdout",
     "output_type": "stream",
     "text": [
      "What team roster would you like to see?\n",
      "Recognizing...\n",
      "Atlanta Hawks\n",
      "                 name number  pos\n",
      "0          Trae Young     11    G\n",
      "1     Dejounte Murray      5    G\n",
      "2     De'Andre Hunter     12  F-G\n",
      "3        John Collins     20  F-C\n",
      "4        Clint Capela     15    C\n",
      "5   Bogdan Bogdanovic     13    G\n",
      "6          Saddiq Bey     41    F\n",
      "7       Jalen Johnson      1    F\n",
      "8      Onyeka Okongwu     17  F-C\n",
      "9       Aaron Holiday      3    G\n",
      "10         AJ Griffin     14    F\n",
      "11     Bruno Fernando      0  F-C\n",
      "12         Vit Krejci     27    G\n",
      "13   Garrison Mathews     25    G\n",
      "14      Trent Forrest      2    G\n",
      "15      Tyrese Martin     22    G\n",
      "16   Donovan Williams           G\n"
     ]
    }
   ],
   "source": [
    "example_interaction()"
   ]
  },
  {
   "cell_type": "code",
   "execution_count": 31,
   "metadata": {},
   "outputs": [],
   "source": [
    "def save_dataframe(df):\n",
    "    with open('display.html', mode=\"a\") as f:\n",
    "        f.write(df.to_html())"
   ]
  },
  {
   "cell_type": "code",
   "execution_count": 32,
   "metadata": {},
   "outputs": [],
   "source": [
    "df = get_roster_dataframe('Boston Celtics')\n",
    "display_dataframes(df, df.head())"
   ]
  },
  {
   "cell_type": "code",
   "execution_count": 41,
   "metadata": {},
   "outputs": [],
   "source": [
    "def display_dataframes(df1, df2):\n",
    "    with open('display.html', mode=\"w\") as f:\n",
    "        df1['versus'] = '     '\n",
    "        joined_df = pd.concat([d.reset_index(drop=True) for d in [df1, df2]], axis=1)\n",
    "        f.write(\"<div> Rosters: </div>\")\n",
    "        f.write(joined_df.to_html())\n",
    "        f.write('<br/>')\n",
    "        f.write(\"no stats\")\n",
    "        # f.write(df1.to_html())"
   ]
  },
  {
   "cell_type": "code",
   "execution_count": 42,
   "metadata": {},
   "outputs": [],
   "source": [
    "display_dataframes(df, df.head())\n"
   ]
  },
  {
   "cell_type": "code",
   "execution_count": 45,
   "metadata": {},
   "outputs": [
    {
     "data": {
      "text/html": [
       "<div>\n",
       "<style scoped>\n",
       "    .dataframe tbody tr th:only-of-type {\n",
       "        vertical-align: middle;\n",
       "    }\n",
       "\n",
       "    .dataframe tbody tr th {\n",
       "        vertical-align: top;\n",
       "    }\n",
       "\n",
       "    .dataframe thead th {\n",
       "        text-align: right;\n",
       "    }\n",
       "</style>\n",
       "<table border=\"1\" class=\"dataframe\">\n",
       "  <thead>\n",
       "    <tr style=\"text-align: right;\">\n",
       "      <th></th>\n",
       "      <th>name</th>\n",
       "      <th>shots_attempted</th>\n",
       "      <th>shots_made</th>\n",
       "      <th>field_goal_percentage</th>\n",
       "    </tr>\n",
       "  </thead>\n",
       "  <tbody>\n",
       "    <tr>\n",
       "      <th>0</th>\n",
       "      <td>Marcus Smart</td>\n",
       "      <td>0</td>\n",
       "      <td>0</td>\n",
       "      <td>0</td>\n",
       "    </tr>\n",
       "  </tbody>\n",
       "</table>\n",
       "</div>"
      ],
      "text/plain": [
       "           name shots_attempted shots_made field_goal_percentage\n",
       "0  Marcus Smart               0          0                     0"
      ]
     },
     "execution_count": 45,
     "metadata": {},
     "output_type": "execute_result"
    }
   ],
   "source": [
    "data = {\n",
    "            \"name\": \"Marcus Smart\",\n",
    "            \"shots_attempted\": 0,\n",
    "            \"shots_made\": 0,\n",
    "            \"field_goal_percentage\": 0,\n",
    "        }\n",
    "\n",
    "pd.DataFrame.from_dict(data, orient='index').T"
   ]
  },
  {
   "cell_type": "code",
   "execution_count": 46,
   "metadata": {},
   "outputs": [],
   "source": [
    "from google.cloud import bigquery"
   ]
  },
  {
   "cell_type": "code",
   "execution_count": 47,
   "metadata": {},
   "outputs": [],
   "source": [
    "bqc = bigquery.Client(project='spurs-sp2018')"
   ]
  },
  {
   "cell_type": "code",
   "execution_count": 48,
   "metadata": {},
   "outputs": [],
   "source": [
    "sql = \"\"\"--sql\n",
    "SELECT * FROM ss.shots LIMIT 1\n",
    "\"\"\""
   ]
  },
  {
   "cell_type": "code",
   "execution_count": 51,
   "metadata": {},
   "outputs": [],
   "source": [
    "sql_player_id = \"\"\"--sql\n",
    "SELECT * FROM ss.players \n",
    "WHERE firstName = 'Jayson' \n",
    "LIMIT 1\n",
    "\"\"\""
   ]
  },
  {
   "cell_type": "code",
   "execution_count": 52,
   "metadata": {},
   "outputs": [],
   "source": [
    "data = bqc.query(sql_player_id).to_dataframe()"
   ]
  },
  {
   "cell_type": "code",
   "execution_count": 55,
   "metadata": {},
   "outputs": [],
   "source": [
    "tatum_id = \"986b713a-b20b-4eb0-919e-c859d0508af7\""
   ]
  },
  {
   "cell_type": "code",
   "execution_count": 78,
   "metadata": {},
   "outputs": [],
   "source": [
    "sql_shots = f\"\"\"\n",
    "SELECT x + 50 as x, y + 25 as y, outcome FROM ss.shots \n",
    "WHERE shooter_id = '{tatum_id}'\n",
    "LIMIT 100\n",
    "\"\"\""
   ]
  },
  {
   "cell_type": "code",
   "execution_count": 79,
   "metadata": {},
   "outputs": [],
   "source": [
    "data = bqc.query(sql_shots).to_dataframe()"
   ]
  },
  {
   "cell_type": "code",
   "execution_count": 133,
   "metadata": {},
   "outputs": [],
   "source": [
    "x1 = -100\n",
    "y1 = -100\n",
    "x2 = 100\n",
    "y2 = 100\n",
    "bqc = bigquery.Client(project=\"spurs-sp2018\")\n",
    "tatum_id = \"986b713a-b20b-4eb0-919e-c859d0508af7\"\n",
    "sql = f\"\"\"\n",
    "    SELECT x + 50 as x, y + 25 as y, outcome, fouled, shot_type FROM ss.shots \n",
    "    WHERE shooter_id = '{tatum_id}'\n",
    "    and x between {x1} and {x2}\n",
    "    and y between {y1} and {y2}\n",
    "    and season = '2018'\n",
    "\"\"\"\n",
    "data = bqc.query(sql).to_dataframe()"
   ]
  },
  {
   "cell_type": "code",
   "execution_count": 136,
   "metadata": {},
   "outputs": [
    {
     "data": {
      "text/plain": [
       "(1229, 5)"
      ]
     },
     "execution_count": 136,
     "metadata": {},
     "output_type": "execute_result"
    }
   ],
   "source": [
    "data.shape"
   ]
  },
  {
   "cell_type": "code",
   "execution_count": 135,
   "metadata": {},
   "outputs": [
    {
     "data": {
      "text/html": [
       "<div>\n",
       "<style scoped>\n",
       "    .dataframe tbody tr th:only-of-type {\n",
       "        vertical-align: middle;\n",
       "    }\n",
       "\n",
       "    .dataframe tbody tr th {\n",
       "        vertical-align: top;\n",
       "    }\n",
       "\n",
       "    .dataframe thead th {\n",
       "        text-align: right;\n",
       "    }\n",
       "</style>\n",
       "<table border=\"1\" class=\"dataframe\">\n",
       "  <thead>\n",
       "    <tr style=\"text-align: right;\">\n",
       "      <th></th>\n",
       "      <th>x</th>\n",
       "      <th>y</th>\n",
       "      <th>outcome</th>\n",
       "      <th>fouled</th>\n",
       "      <th>shot_type</th>\n",
       "    </tr>\n",
       "  </thead>\n",
       "  <tbody>\n",
       "    <tr>\n",
       "      <th>0</th>\n",
       "      <td>9.59</td>\n",
       "      <td>24.29</td>\n",
       "      <td>True</td>\n",
       "      <td>False</td>\n",
       "      <td>layup</td>\n",
       "    </tr>\n",
       "    <tr>\n",
       "      <th>1</th>\n",
       "      <td>10.28</td>\n",
       "      <td>6.36</td>\n",
       "      <td>False</td>\n",
       "      <td>False</td>\n",
       "      <td>jumper</td>\n",
       "    </tr>\n",
       "    <tr>\n",
       "      <th>2</th>\n",
       "      <td>26.85</td>\n",
       "      <td>22.68</td>\n",
       "      <td>False</td>\n",
       "      <td>False</td>\n",
       "      <td>jumper</td>\n",
       "    </tr>\n",
       "    <tr>\n",
       "      <th>3</th>\n",
       "      <td>9.18</td>\n",
       "      <td>24.72</td>\n",
       "      <td>True</td>\n",
       "      <td>False</td>\n",
       "      <td>layup</td>\n",
       "    </tr>\n",
       "    <tr>\n",
       "      <th>4</th>\n",
       "      <td>9.64</td>\n",
       "      <td>22.95</td>\n",
       "      <td>True</td>\n",
       "      <td>False</td>\n",
       "      <td>layup</td>\n",
       "    </tr>\n",
       "    <tr>\n",
       "      <th>...</th>\n",
       "      <td>...</td>\n",
       "      <td>...</td>\n",
       "      <td>...</td>\n",
       "      <td>...</td>\n",
       "      <td>...</td>\n",
       "    </tr>\n",
       "    <tr>\n",
       "      <th>1224</th>\n",
       "      <td>8.39</td>\n",
       "      <td>47.01</td>\n",
       "      <td>False</td>\n",
       "      <td>False</td>\n",
       "      <td>jumper</td>\n",
       "    </tr>\n",
       "    <tr>\n",
       "      <th>1225</th>\n",
       "      <td>19.50</td>\n",
       "      <td>47.50</td>\n",
       "      <td>True</td>\n",
       "      <td>False</td>\n",
       "      <td>jumper</td>\n",
       "    </tr>\n",
       "    <tr>\n",
       "      <th>1226</th>\n",
       "      <td>13.03</td>\n",
       "      <td>20.94</td>\n",
       "      <td>False</td>\n",
       "      <td>True</td>\n",
       "      <td>layup</td>\n",
       "    </tr>\n",
       "    <tr>\n",
       "      <th>1227</th>\n",
       "      <td>9.07</td>\n",
       "      <td>20.48</td>\n",
       "      <td>True</td>\n",
       "      <td>False</td>\n",
       "      <td>layup</td>\n",
       "    </tr>\n",
       "    <tr>\n",
       "      <th>1228</th>\n",
       "      <td>11.93</td>\n",
       "      <td>13.49</td>\n",
       "      <td>False</td>\n",
       "      <td>True</td>\n",
       "      <td>post</td>\n",
       "    </tr>\n",
       "  </tbody>\n",
       "</table>\n",
       "<p>1229 rows × 5 columns</p>\n",
       "</div>"
      ],
      "text/plain": [
       "          x      y  outcome  fouled shot_type\n",
       "0      9.59  24.29     True   False     layup\n",
       "1     10.28   6.36    False   False    jumper\n",
       "2     26.85  22.68    False   False    jumper\n",
       "3      9.18  24.72     True   False     layup\n",
       "4      9.64  22.95     True   False     layup\n",
       "...     ...    ...      ...     ...       ...\n",
       "1224   8.39  47.01    False   False    jumper\n",
       "1225  19.50  47.50     True   False    jumper\n",
       "1226  13.03  20.94    False    True     layup\n",
       "1227   9.07  20.48     True   False     layup\n",
       "1228  11.93  13.49    False    True      post\n",
       "\n",
       "[1229 rows x 5 columns]"
      ]
     },
     "execution_count": 135,
     "metadata": {},
     "output_type": "execute_result"
    }
   ],
   "source": [
    "data"
   ]
  },
  {
   "cell_type": "code",
   "execution_count": null,
   "metadata": {},
   "outputs": [],
   "source": []
  }
 ],
 "metadata": {
  "kernelspec": {
   "display_name": "Python 3",
   "language": "python",
   "name": "python3"
  },
  "language_info": {
   "codemirror_mode": {
    "name": "ipython",
    "version": 3
   },
   "file_extension": ".py",
   "mimetype": "text/x-python",
   "name": "python",
   "nbconvert_exporter": "python",
   "pygments_lexer": "ipython3",
   "version": "3.11.2"
  },
  "orig_nbformat": 4
 },
 "nbformat": 4,
 "nbformat_minor": 2
}
