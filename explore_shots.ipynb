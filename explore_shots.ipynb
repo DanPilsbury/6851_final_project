{
 "cells": [
  {
   "cell_type": "code",
   "execution_count": 1,
   "metadata": {},
   "outputs": [],
   "source": [
    "from google.cloud import bigquery"
   ]
  },
  {
   "cell_type": "code",
   "execution_count": 15,
   "metadata": {},
   "outputs": [],
   "source": [
    "import plotly.express as px"
   ]
  },
  {
   "cell_type": "code",
   "execution_count": 12,
   "metadata": {},
   "outputs": [],
   "source": [
    "from find_drives import *"
   ]
  },
  {
   "cell_type": "code",
   "execution_count": 2,
   "metadata": {},
   "outputs": [],
   "source": [
    "bqc = bigquery.Client(project='spurs-sp2018')"
   ]
  },
  {
   "cell_type": "code",
   "execution_count": 24,
   "metadata": {},
   "outputs": [],
   "source": [
    "shots_sql = \"\"\"--sql\n",
    "SELECT x, y, concat(pl.firstName, ' ', pl.lastName) as player_name, outcome, season\n",
    "from ss.shots\n",
    "join ss.players as pl on pl.id = shots.shooter_id\n",
    "where concat(pl.firstName, ' ', pl.lastName) = 'Stephen Curry'\n",
    "and season = '2018'\n",
    "\"\"\""
   ]
  },
  {
   "cell_type": "code",
   "execution_count": 25,
   "metadata": {},
   "outputs": [],
   "source": [
    "df = bqc.query(shots_sql).to_dataframe()"
   ]
  },
  {
   "cell_type": "code",
   "execution_count": 26,
   "metadata": {},
   "outputs": [
    {
     "data": {
      "text/html": [
       "<div>\n",
       "<style scoped>\n",
       "    .dataframe tbody tr th:only-of-type {\n",
       "        vertical-align: middle;\n",
       "    }\n",
       "\n",
       "    .dataframe tbody tr th {\n",
       "        vertical-align: top;\n",
       "    }\n",
       "\n",
       "    .dataframe thead th {\n",
       "        text-align: right;\n",
       "    }\n",
       "</style>\n",
       "<table border=\"1\" class=\"dataframe\">\n",
       "  <thead>\n",
       "    <tr style=\"text-align: right;\">\n",
       "      <th></th>\n",
       "      <th>x</th>\n",
       "      <th>y</th>\n",
       "      <th>player_name</th>\n",
       "      <th>outcome</th>\n",
       "      <th>season</th>\n",
       "    </tr>\n",
       "  </thead>\n",
       "  <tbody>\n",
       "    <tr>\n",
       "      <th>0</th>\n",
       "      <td>-24.07</td>\n",
       "      <td>-7.55</td>\n",
       "      <td>Stephen Curry</td>\n",
       "      <td>True</td>\n",
       "      <td>2018</td>\n",
       "    </tr>\n",
       "    <tr>\n",
       "      <th>1</th>\n",
       "      <td>-14.88</td>\n",
       "      <td>0.63</td>\n",
       "      <td>Stephen Curry</td>\n",
       "      <td>False</td>\n",
       "      <td>2018</td>\n",
       "    </tr>\n",
       "    <tr>\n",
       "      <th>2</th>\n",
       "      <td>-17.85</td>\n",
       "      <td>-9.41</td>\n",
       "      <td>Stephen Curry</td>\n",
       "      <td>False</td>\n",
       "      <td>2018</td>\n",
       "    </tr>\n",
       "    <tr>\n",
       "      <th>3</th>\n",
       "      <td>-14.32</td>\n",
       "      <td>-3.15</td>\n",
       "      <td>Stephen Curry</td>\n",
       "      <td>False</td>\n",
       "      <td>2018</td>\n",
       "    </tr>\n",
       "    <tr>\n",
       "      <th>4</th>\n",
       "      <td>-39.94</td>\n",
       "      <td>-6.06</td>\n",
       "      <td>Stephen Curry</td>\n",
       "      <td>False</td>\n",
       "      <td>2018</td>\n",
       "    </tr>\n",
       "    <tr>\n",
       "      <th>...</th>\n",
       "      <td>...</td>\n",
       "      <td>...</td>\n",
       "      <td>...</td>\n",
       "      <td>...</td>\n",
       "      <td>...</td>\n",
       "    </tr>\n",
       "    <tr>\n",
       "      <th>1685</th>\n",
       "      <td>-19.73</td>\n",
       "      <td>-15.50</td>\n",
       "      <td>Stephen Curry</td>\n",
       "      <td>True</td>\n",
       "      <td>2018</td>\n",
       "    </tr>\n",
       "    <tr>\n",
       "      <th>1686</th>\n",
       "      <td>-39.50</td>\n",
       "      <td>-22.89</td>\n",
       "      <td>Stephen Curry</td>\n",
       "      <td>True</td>\n",
       "      <td>2018</td>\n",
       "    </tr>\n",
       "    <tr>\n",
       "      <th>1687</th>\n",
       "      <td>-39.69</td>\n",
       "      <td>23.05</td>\n",
       "      <td>Stephen Curry</td>\n",
       "      <td>True</td>\n",
       "      <td>2018</td>\n",
       "    </tr>\n",
       "    <tr>\n",
       "      <th>1688</th>\n",
       "      <td>-22.17</td>\n",
       "      <td>16.47</td>\n",
       "      <td>Stephen Curry</td>\n",
       "      <td>True</td>\n",
       "      <td>2018</td>\n",
       "    </tr>\n",
       "    <tr>\n",
       "      <th>1689</th>\n",
       "      <td>-20.31</td>\n",
       "      <td>12.12</td>\n",
       "      <td>Stephen Curry</td>\n",
       "      <td>True</td>\n",
       "      <td>2018</td>\n",
       "    </tr>\n",
       "  </tbody>\n",
       "</table>\n",
       "<p>1690 rows × 5 columns</p>\n",
       "</div>"
      ],
      "text/plain": [
       "          x      y    player_name  outcome season\n",
       "0    -24.07  -7.55  Stephen Curry     True   2018\n",
       "1    -14.88   0.63  Stephen Curry    False   2018\n",
       "2    -17.85  -9.41  Stephen Curry    False   2018\n",
       "3    -14.32  -3.15  Stephen Curry    False   2018\n",
       "4    -39.94  -6.06  Stephen Curry    False   2018\n",
       "...     ...    ...            ...      ...    ...\n",
       "1685 -19.73 -15.50  Stephen Curry     True   2018\n",
       "1686 -39.50 -22.89  Stephen Curry     True   2018\n",
       "1687 -39.69  23.05  Stephen Curry     True   2018\n",
       "1688 -22.17  16.47  Stephen Curry     True   2018\n",
       "1689 -20.31  12.12  Stephen Curry     True   2018\n",
       "\n",
       "[1690 rows x 5 columns]"
      ]
     },
     "execution_count": 26,
     "metadata": {},
     "output_type": "execute_result"
    }
   ],
   "source": [
    "df"
   ]
  },
  {
   "cell_type": "code",
   "execution_count": 28,
   "metadata": {},
   "outputs": [],
   "source": [
    "def get_shots_sql(player_name, season, x_range, y_range):\n",
    "    return f\"\"\"--sql\n",
    "    SELECT x, y, concat(pl.firstName, ' ', pl.lastName) as player_name, outcome, season\n",
    "    from ss.shots\n",
    "    join ss.players as pl on pl.id = shots.shooter_id\n",
    "    where concat(pl.firstName, ' ', pl.lastName) = '{player_name}'\n",
    "    and season = '{season}'\n",
    "    and x between {x_range[0]} and {x_range[1]}\n",
    "    and y between {y_range[0]} and {y_range[1]}\n",
    "    \"\"\""
   ]
  },
  {
   "cell_type": "code",
   "execution_count": 29,
   "metadata": {},
   "outputs": [],
   "source": [
    "def get_shots_dataframe(player_name, season, x_range, y_range):\n",
    "    shots_sql = get_shots_sql(player_name, season, x_range, y_range)\n",
    "    return bqc.query(shots_sql).to_dataframe()"
   ]
  },
  {
   "cell_type": "code",
   "execution_count": 38,
   "metadata": {},
   "outputs": [],
   "source": [
    "def get_shots_fig(player_name, season, x_range, y_range):\n",
    "    df = get_shots_dataframe(player_name, season, x_range, y_range)\n",
    "    fg_pct = df['outcome'].sum() / len(df)\n",
    "    fig = px.scatter(df, x='x', y='y', color='outcome', hover_data=['player_name', 'season'])\n",
    "    # set fig title\n",
    "    fig.update_layout(title=f'{player_name} {season} FG%: {fg_pct:.2f}')\n",
    "\n",
    "    fig.update_traces(marker_size=3)\n",
    "    draw_basketball_court(fig)\n",
    "    return fig"
   ]
  },
  {
   "cell_type": "code",
   "execution_count": 45,
   "metadata": {},
   "outputs": [],
   "source": [
    "args = {\n",
    "    'player_name': 'Stephen Curry',\n",
    "    'season': '2018',\n",
    "    'x_range': [-44, -35],\n",
    "    'y_range': [-5, 5]\n",
    "}"
   ]
  },
  {
   "cell_type": "code",
   "execution_count": 46,
   "metadata": {},
   "outputs": [
    {
     "data": {
      "application/vnd.plotly.v1+json": {
       "config": {
        "plotlyServerURL": "https://plot.ly"
       },
       "data": [
        {
         "customdata": [
          [
           "Stephen Curry",
           "2018"
          ],
          [
           "Stephen Curry",
           "2018"
          ],
          [
           "Stephen Curry",
           "2018"
          ],
          [
           "Stephen Curry",
           "2018"
          ],
          [
           "Stephen Curry",
           "2018"
          ],
          [
           "Stephen Curry",
           "2018"
          ],
          [
           "Stephen Curry",
           "2018"
          ],
          [
           "Stephen Curry",
           "2018"
          ],
          [
           "Stephen Curry",
           "2018"
          ],
          [
           "Stephen Curry",
           "2018"
          ],
          [
           "Stephen Curry",
           "2018"
          ],
          [
           "Stephen Curry",
           "2018"
          ],
          [
           "Stephen Curry",
           "2018"
          ],
          [
           "Stephen Curry",
           "2018"
          ],
          [
           "Stephen Curry",
           "2018"
          ],
          [
           "Stephen Curry",
           "2018"
          ],
          [
           "Stephen Curry",
           "2018"
          ],
          [
           "Stephen Curry",
           "2018"
          ],
          [
           "Stephen Curry",
           "2018"
          ],
          [
           "Stephen Curry",
           "2018"
          ],
          [
           "Stephen Curry",
           "2018"
          ],
          [
           "Stephen Curry",
           "2018"
          ],
          [
           "Stephen Curry",
           "2018"
          ],
          [
           "Stephen Curry",
           "2018"
          ],
          [
           "Stephen Curry",
           "2018"
          ],
          [
           "Stephen Curry",
           "2018"
          ],
          [
           "Stephen Curry",
           "2018"
          ],
          [
           "Stephen Curry",
           "2018"
          ],
          [
           "Stephen Curry",
           "2018"
          ],
          [
           "Stephen Curry",
           "2018"
          ],
          [
           "Stephen Curry",
           "2018"
          ],
          [
           "Stephen Curry",
           "2018"
          ],
          [
           "Stephen Curry",
           "2018"
          ],
          [
           "Stephen Curry",
           "2018"
          ],
          [
           "Stephen Curry",
           "2018"
          ],
          [
           "Stephen Curry",
           "2018"
          ],
          [
           "Stephen Curry",
           "2018"
          ],
          [
           "Stephen Curry",
           "2018"
          ],
          [
           "Stephen Curry",
           "2018"
          ],
          [
           "Stephen Curry",
           "2018"
          ],
          [
           "Stephen Curry",
           "2018"
          ],
          [
           "Stephen Curry",
           "2018"
          ],
          [
           "Stephen Curry",
           "2018"
          ],
          [
           "Stephen Curry",
           "2018"
          ],
          [
           "Stephen Curry",
           "2018"
          ],
          [
           "Stephen Curry",
           "2018"
          ],
          [
           "Stephen Curry",
           "2018"
          ],
          [
           "Stephen Curry",
           "2018"
          ],
          [
           "Stephen Curry",
           "2018"
          ],
          [
           "Stephen Curry",
           "2018"
          ],
          [
           "Stephen Curry",
           "2018"
          ],
          [
           "Stephen Curry",
           "2018"
          ],
          [
           "Stephen Curry",
           "2018"
          ],
          [
           "Stephen Curry",
           "2018"
          ],
          [
           "Stephen Curry",
           "2018"
          ],
          [
           "Stephen Curry",
           "2018"
          ],
          [
           "Stephen Curry",
           "2018"
          ],
          [
           "Stephen Curry",
           "2018"
          ],
          [
           "Stephen Curry",
           "2018"
          ],
          [
           "Stephen Curry",
           "2018"
          ],
          [
           "Stephen Curry",
           "2018"
          ],
          [
           "Stephen Curry",
           "2018"
          ],
          [
           "Stephen Curry",
           "2018"
          ],
          [
           "Stephen Curry",
           "2018"
          ],
          [
           "Stephen Curry",
           "2018"
          ],
          [
           "Stephen Curry",
           "2018"
          ],
          [
           "Stephen Curry",
           "2018"
          ],
          [
           "Stephen Curry",
           "2018"
          ],
          [
           "Stephen Curry",
           "2018"
          ],
          [
           "Stephen Curry",
           "2018"
          ],
          [
           "Stephen Curry",
           "2018"
          ],
          [
           "Stephen Curry",
           "2018"
          ],
          [
           "Stephen Curry",
           "2018"
          ],
          [
           "Stephen Curry",
           "2018"
          ],
          [
           "Stephen Curry",
           "2018"
          ],
          [
           "Stephen Curry",
           "2018"
          ],
          [
           "Stephen Curry",
           "2018"
          ],
          [
           "Stephen Curry",
           "2018"
          ],
          [
           "Stephen Curry",
           "2018"
          ],
          [
           "Stephen Curry",
           "2018"
          ],
          [
           "Stephen Curry",
           "2018"
          ],
          [
           "Stephen Curry",
           "2018"
          ],
          [
           "Stephen Curry",
           "2018"
          ],
          [
           "Stephen Curry",
           "2018"
          ],
          [
           "Stephen Curry",
           "2018"
          ],
          [
           "Stephen Curry",
           "2018"
          ],
          [
           "Stephen Curry",
           "2018"
          ],
          [
           "Stephen Curry",
           "2018"
          ],
          [
           "Stephen Curry",
           "2018"
          ],
          [
           "Stephen Curry",
           "2018"
          ],
          [
           "Stephen Curry",
           "2018"
          ],
          [
           "Stephen Curry",
           "2018"
          ],
          [
           "Stephen Curry",
           "2018"
          ],
          [
           "Stephen Curry",
           "2018"
          ],
          [
           "Stephen Curry",
           "2018"
          ],
          [
           "Stephen Curry",
           "2018"
          ],
          [
           "Stephen Curry",
           "2018"
          ],
          [
           "Stephen Curry",
           "2018"
          ],
          [
           "Stephen Curry",
           "2018"
          ],
          [
           "Stephen Curry",
           "2018"
          ],
          [
           "Stephen Curry",
           "2018"
          ],
          [
           "Stephen Curry",
           "2018"
          ],
          [
           "Stephen Curry",
           "2018"
          ],
          [
           "Stephen Curry",
           "2018"
          ],
          [
           "Stephen Curry",
           "2018"
          ],
          [
           "Stephen Curry",
           "2018"
          ],
          [
           "Stephen Curry",
           "2018"
          ],
          [
           "Stephen Curry",
           "2018"
          ],
          [
           "Stephen Curry",
           "2018"
          ],
          [
           "Stephen Curry",
           "2018"
          ],
          [
           "Stephen Curry",
           "2018"
          ],
          [
           "Stephen Curry",
           "2018"
          ],
          [
           "Stephen Curry",
           "2018"
          ],
          [
           "Stephen Curry",
           "2018"
          ],
          [
           "Stephen Curry",
           "2018"
          ],
          [
           "Stephen Curry",
           "2018"
          ],
          [
           "Stephen Curry",
           "2018"
          ],
          [
           "Stephen Curry",
           "2018"
          ],
          [
           "Stephen Curry",
           "2018"
          ],
          [
           "Stephen Curry",
           "2018"
          ],
          [
           "Stephen Curry",
           "2018"
          ],
          [
           "Stephen Curry",
           "2018"
          ],
          [
           "Stephen Curry",
           "2018"
          ],
          [
           "Stephen Curry",
           "2018"
          ],
          [
           "Stephen Curry",
           "2018"
          ],
          [
           "Stephen Curry",
           "2018"
          ],
          [
           "Stephen Curry",
           "2018"
          ],
          [
           "Stephen Curry",
           "2018"
          ],
          [
           "Stephen Curry",
           "2018"
          ],
          [
           "Stephen Curry",
           "2018"
          ],
          [
           "Stephen Curry",
           "2018"
          ],
          [
           "Stephen Curry",
           "2018"
          ],
          [
           "Stephen Curry",
           "2018"
          ],
          [
           "Stephen Curry",
           "2018"
          ],
          [
           "Stephen Curry",
           "2018"
          ],
          [
           "Stephen Curry",
           "2018"
          ],
          [
           "Stephen Curry",
           "2018"
          ],
          [
           "Stephen Curry",
           "2018"
          ],
          [
           "Stephen Curry",
           "2018"
          ],
          [
           "Stephen Curry",
           "2018"
          ],
          [
           "Stephen Curry",
           "2018"
          ],
          [
           "Stephen Curry",
           "2018"
          ],
          [
           "Stephen Curry",
           "2018"
          ],
          [
           "Stephen Curry",
           "2018"
          ],
          [
           "Stephen Curry",
           "2018"
          ],
          [
           "Stephen Curry",
           "2018"
          ],
          [
           "Stephen Curry",
           "2018"
          ],
          [
           "Stephen Curry",
           "2018"
          ],
          [
           "Stephen Curry",
           "2018"
          ],
          [
           "Stephen Curry",
           "2018"
          ],
          [
           "Stephen Curry",
           "2018"
          ],
          [
           "Stephen Curry",
           "2018"
          ],
          [
           "Stephen Curry",
           "2018"
          ],
          [
           "Stephen Curry",
           "2018"
          ],
          [
           "Stephen Curry",
           "2018"
          ],
          [
           "Stephen Curry",
           "2018"
          ],
          [
           "Stephen Curry",
           "2018"
          ],
          [
           "Stephen Curry",
           "2018"
          ],
          [
           "Stephen Curry",
           "2018"
          ],
          [
           "Stephen Curry",
           "2018"
          ],
          [
           "Stephen Curry",
           "2018"
          ],
          [
           "Stephen Curry",
           "2018"
          ],
          [
           "Stephen Curry",
           "2018"
          ],
          [
           "Stephen Curry",
           "2018"
          ],
          [
           "Stephen Curry",
           "2018"
          ],
          [
           "Stephen Curry",
           "2018"
          ],
          [
           "Stephen Curry",
           "2018"
          ],
          [
           "Stephen Curry",
           "2018"
          ],
          [
           "Stephen Curry",
           "2018"
          ],
          [
           "Stephen Curry",
           "2018"
          ],
          [
           "Stephen Curry",
           "2018"
          ],
          [
           "Stephen Curry",
           "2018"
          ],
          [
           "Stephen Curry",
           "2018"
          ],
          [
           "Stephen Curry",
           "2018"
          ],
          [
           "Stephen Curry",
           "2018"
          ],
          [
           "Stephen Curry",
           "2018"
          ],
          [
           "Stephen Curry",
           "2018"
          ],
          [
           "Stephen Curry",
           "2018"
          ],
          [
           "Stephen Curry",
           "2018"
          ],
          [
           "Stephen Curry",
           "2018"
          ],
          [
           "Stephen Curry",
           "2018"
          ],
          [
           "Stephen Curry",
           "2018"
          ],
          [
           "Stephen Curry",
           "2018"
          ],
          [
           "Stephen Curry",
           "2018"
          ],
          [
           "Stephen Curry",
           "2018"
          ],
          [
           "Stephen Curry",
           "2018"
          ],
          [
           "Stephen Curry",
           "2018"
          ],
          [
           "Stephen Curry",
           "2018"
          ],
          [
           "Stephen Curry",
           "2018"
          ],
          [
           "Stephen Curry",
           "2018"
          ],
          [
           "Stephen Curry",
           "2018"
          ],
          [
           "Stephen Curry",
           "2018"
          ],
          [
           "Stephen Curry",
           "2018"
          ],
          [
           "Stephen Curry",
           "2018"
          ]
         ],
         "hovertemplate": "outcome=True<br>x=%{x}<br>y=%{y}<br>player_name=%{customdata[0]}<br>season=%{customdata[1]}<extra></extra>",
         "legendgroup": "True",
         "marker": {
          "color": "#636efa",
          "size": 3,
          "symbol": "circle"
         },
         "mode": "markers",
         "name": "True",
         "orientation": "v",
         "showlegend": true,
         "type": "scatter",
         "x": [
          -40.18,
          -40.76,
          -40.19,
          -40.57,
          -40.83,
          -41.95,
          -38.52,
          -39.49,
          -39.29,
          -41.29,
          -41.54,
          -40.91,
          -42.33,
          -41.36,
          -36.44,
          -37.89,
          -40.28,
          -40.43,
          -40.98,
          -41.28,
          -41.38,
          -38.28,
          -41.5,
          -38.62,
          -40.05,
          -40.8,
          -41.03,
          -42.34,
          -41.33,
          -41.39,
          -42.2,
          -41.23,
          -41.53,
          -36.73,
          -41.62,
          -40.12,
          -37.54,
          -42.35,
          -41.51,
          -41.72,
          -38.05,
          -40.23,
          -39.97,
          -42.38,
          -38.33,
          -40.54,
          -42.26,
          -39.97,
          -38.37,
          -41.65,
          -42.21,
          -41.16,
          -42.7,
          -41.73,
          -35.6,
          -41.55,
          -39.42,
          -35.88,
          -40.86,
          -42.67,
          -36.05,
          -36.26,
          -40.53,
          -41.25,
          -40.4,
          -38.97,
          -41.66,
          -41.34,
          -41.97,
          -39.81,
          -40.84,
          -35.89,
          -39.63,
          -40.16,
          -41.7,
          -38.69,
          -35.85,
          -39.88,
          -41.84,
          -42.19,
          -40.18,
          -37.29,
          -39.78,
          -37.77,
          -40.52,
          -38.09,
          -38,
          -37.13,
          -40.43,
          -39.64,
          -38.49,
          -42.59,
          -40.64,
          -42.82,
          -40.46,
          -41.68,
          -40.11,
          -41.36,
          -37.67,
          -42.74,
          -41.94,
          -41.26,
          -35.84,
          -41.36,
          -38.41,
          -37.95,
          -41.65,
          -41.58,
          -41.76,
          -40.66,
          -42.56,
          -36.07,
          -42.14,
          -42.06,
          -39.35,
          -41.32,
          -40.81,
          -40.75,
          -39.7,
          -39.51,
          -39.71,
          -42.31,
          -37.99,
          -41.62,
          -42.06,
          -38.28,
          -39.35,
          -41.96,
          -40.05,
          -38.91,
          -41.33,
          -41.52,
          -36.54,
          -40.27,
          -41.38,
          -38.29,
          -41.41,
          -36.81,
          -41.84,
          -41.72,
          -40.03,
          -36.7,
          -41.59,
          -39.74,
          -41.51,
          -39.99,
          -37.25,
          -41.5,
          -36.62,
          -41.53,
          -42.85,
          -38.88,
          -41.92,
          -41.71,
          -41.58,
          -40.82,
          -42.34,
          -40.9,
          -41.14,
          -39.93,
          -37.76,
          -41.91,
          -40.96,
          -41.3,
          -39.64,
          -39.29,
          -38.16,
          -37.45,
          -41.16,
          -42.05,
          -42.69,
          -41.93,
          -36.59,
          -39.69,
          -41.38,
          -41.99,
          -39.75,
          -42.34,
          -38.58,
          -36.8,
          -37.87,
          -40.47,
          -38.19,
          -41.31,
          -37.36,
          -37.99,
          -41.66,
          -38.09,
          -41.85,
          -38.8,
          -35.5,
          -39.72,
          -41.25,
          -39.06
         ],
         "xaxis": "x",
         "y": [
          4.27,
          -2.89,
          2.86,
          2.52,
          -3.26,
          1.8,
          1.59,
          1.67,
          -2.25,
          1.83,
          4.73,
          1.19,
          4.11,
          -0.31,
          -0.63,
          2.05,
          -1.15,
          4.22,
          -0.92,
          -1.67,
          2.34,
          -1.05,
          2.86,
          -0.31,
          -4.37,
          -0.92,
          3.6,
          1.47,
          2.3,
          -4.33,
          -3.08,
          -3.09,
          1.66,
          -0.84,
          -2.45,
          -4.51,
          -1.94,
          -2.14,
          -4.96,
          -1.45,
          -2.64,
          -4.01,
          -4.45,
          -2.88,
          0.23,
          -3.39,
          -4.21,
          -2.13,
          2.82,
          -4.02,
          -2.35,
          1.59,
          -1.93,
          -1.21,
          -2.2,
          -0.5,
          4.15,
          0.95,
          3.68,
          -1.6,
          -1.25,
          -0.52,
          -1.04,
          -0.76,
          4.69,
          1.02,
          -2.92,
          3.15,
          2.4,
          -1.62,
          1.88,
          -0.89,
          1.33,
          -2.87,
          2.37,
          -4.66,
          -0.44,
          -3.53,
          3.98,
          -1.4,
          -1.04,
          3.31,
          1,
          -3.57,
          -2.72,
          -1.61,
          4.23,
          0.88,
          -3.15,
          0.17,
          -0.37,
          1.68,
          2.41,
          3.32,
          2.66,
          1.72,
          -3.23,
          -2.41,
          2.37,
          -1.9,
          0.55,
          -4.74,
          0.01,
          -4.03,
          2.14,
          -0.93,
          3.93,
          1.99,
          2.42,
          -3.72,
          -1.17,
          0.07,
          0.93,
          3.6,
          -3.57,
          1.21,
          3.11,
          2.41,
          3.73,
          -1.45,
          -2.29,
          -2.71,
          1.42,
          1.75,
          3.14,
          4.06,
          -0.58,
          -3.53,
          2.45,
          2.4,
          -4.35,
          1.54,
          1.36,
          4.27,
          -4.44,
          0.66,
          4.24,
          -0.04,
          -3.9,
          -3.95,
          1.92,
          -1.5,
          -2.75,
          -3.94,
          -1.46,
          2.12,
          0.31,
          3.5,
          -1.35,
          2.2,
          -0.63,
          0.6,
          2.05,
          -2.78,
          -3.27,
          -4.14,
          -2.19,
          3.8,
          4.5,
          -4.54,
          1.66,
          1.47,
          4.48,
          -4.44,
          3.19,
          -1.23,
          -3.51,
          -1.5,
          -2.32,
          1.01,
          -2.98,
          -2.36,
          -0.48,
          4.05,
          -2.41,
          -2.82,
          -3.38,
          -1.73,
          2.32,
          1.54,
          1.33,
          3.49,
          2.56,
          -3.87,
          -3.77,
          0.17,
          -2.39,
          -0.55,
          -4.56,
          -1.58,
          -3.18,
          -0.51,
          2.94,
          -0.47
         ],
         "yaxis": "y"
        },
        {
         "customdata": [
          [
           "Stephen Curry",
           "2018"
          ],
          [
           "Stephen Curry",
           "2018"
          ],
          [
           "Stephen Curry",
           "2018"
          ],
          [
           "Stephen Curry",
           "2018"
          ],
          [
           "Stephen Curry",
           "2018"
          ],
          [
           "Stephen Curry",
           "2018"
          ],
          [
           "Stephen Curry",
           "2018"
          ],
          [
           "Stephen Curry",
           "2018"
          ],
          [
           "Stephen Curry",
           "2018"
          ],
          [
           "Stephen Curry",
           "2018"
          ],
          [
           "Stephen Curry",
           "2018"
          ],
          [
           "Stephen Curry",
           "2018"
          ],
          [
           "Stephen Curry",
           "2018"
          ],
          [
           "Stephen Curry",
           "2018"
          ],
          [
           "Stephen Curry",
           "2018"
          ],
          [
           "Stephen Curry",
           "2018"
          ],
          [
           "Stephen Curry",
           "2018"
          ],
          [
           "Stephen Curry",
           "2018"
          ],
          [
           "Stephen Curry",
           "2018"
          ],
          [
           "Stephen Curry",
           "2018"
          ],
          [
           "Stephen Curry",
           "2018"
          ],
          [
           "Stephen Curry",
           "2018"
          ],
          [
           "Stephen Curry",
           "2018"
          ],
          [
           "Stephen Curry",
           "2018"
          ],
          [
           "Stephen Curry",
           "2018"
          ],
          [
           "Stephen Curry",
           "2018"
          ],
          [
           "Stephen Curry",
           "2018"
          ],
          [
           "Stephen Curry",
           "2018"
          ],
          [
           "Stephen Curry",
           "2018"
          ],
          [
           "Stephen Curry",
           "2018"
          ],
          [
           "Stephen Curry",
           "2018"
          ],
          [
           "Stephen Curry",
           "2018"
          ],
          [
           "Stephen Curry",
           "2018"
          ],
          [
           "Stephen Curry",
           "2018"
          ],
          [
           "Stephen Curry",
           "2018"
          ],
          [
           "Stephen Curry",
           "2018"
          ],
          [
           "Stephen Curry",
           "2018"
          ],
          [
           "Stephen Curry",
           "2018"
          ],
          [
           "Stephen Curry",
           "2018"
          ],
          [
           "Stephen Curry",
           "2018"
          ],
          [
           "Stephen Curry",
           "2018"
          ],
          [
           "Stephen Curry",
           "2018"
          ],
          [
           "Stephen Curry",
           "2018"
          ],
          [
           "Stephen Curry",
           "2018"
          ],
          [
           "Stephen Curry",
           "2018"
          ],
          [
           "Stephen Curry",
           "2018"
          ],
          [
           "Stephen Curry",
           "2018"
          ],
          [
           "Stephen Curry",
           "2018"
          ],
          [
           "Stephen Curry",
           "2018"
          ],
          [
           "Stephen Curry",
           "2018"
          ],
          [
           "Stephen Curry",
           "2018"
          ],
          [
           "Stephen Curry",
           "2018"
          ],
          [
           "Stephen Curry",
           "2018"
          ],
          [
           "Stephen Curry",
           "2018"
          ],
          [
           "Stephen Curry",
           "2018"
          ],
          [
           "Stephen Curry",
           "2018"
          ],
          [
           "Stephen Curry",
           "2018"
          ],
          [
           "Stephen Curry",
           "2018"
          ],
          [
           "Stephen Curry",
           "2018"
          ],
          [
           "Stephen Curry",
           "2018"
          ],
          [
           "Stephen Curry",
           "2018"
          ],
          [
           "Stephen Curry",
           "2018"
          ],
          [
           "Stephen Curry",
           "2018"
          ],
          [
           "Stephen Curry",
           "2018"
          ],
          [
           "Stephen Curry",
           "2018"
          ],
          [
           "Stephen Curry",
           "2018"
          ],
          [
           "Stephen Curry",
           "2018"
          ],
          [
           "Stephen Curry",
           "2018"
          ],
          [
           "Stephen Curry",
           "2018"
          ],
          [
           "Stephen Curry",
           "2018"
          ],
          [
           "Stephen Curry",
           "2018"
          ],
          [
           "Stephen Curry",
           "2018"
          ],
          [
           "Stephen Curry",
           "2018"
          ],
          [
           "Stephen Curry",
           "2018"
          ],
          [
           "Stephen Curry",
           "2018"
          ],
          [
           "Stephen Curry",
           "2018"
          ],
          [
           "Stephen Curry",
           "2018"
          ],
          [
           "Stephen Curry",
           "2018"
          ],
          [
           "Stephen Curry",
           "2018"
          ],
          [
           "Stephen Curry",
           "2018"
          ],
          [
           "Stephen Curry",
           "2018"
          ],
          [
           "Stephen Curry",
           "2018"
          ],
          [
           "Stephen Curry",
           "2018"
          ],
          [
           "Stephen Curry",
           "2018"
          ],
          [
           "Stephen Curry",
           "2018"
          ],
          [
           "Stephen Curry",
           "2018"
          ],
          [
           "Stephen Curry",
           "2018"
          ],
          [
           "Stephen Curry",
           "2018"
          ],
          [
           "Stephen Curry",
           "2018"
          ],
          [
           "Stephen Curry",
           "2018"
          ],
          [
           "Stephen Curry",
           "2018"
          ],
          [
           "Stephen Curry",
           "2018"
          ],
          [
           "Stephen Curry",
           "2018"
          ],
          [
           "Stephen Curry",
           "2018"
          ],
          [
           "Stephen Curry",
           "2018"
          ],
          [
           "Stephen Curry",
           "2018"
          ],
          [
           "Stephen Curry",
           "2018"
          ],
          [
           "Stephen Curry",
           "2018"
          ],
          [
           "Stephen Curry",
           "2018"
          ],
          [
           "Stephen Curry",
           "2018"
          ],
          [
           "Stephen Curry",
           "2018"
          ],
          [
           "Stephen Curry",
           "2018"
          ],
          [
           "Stephen Curry",
           "2018"
          ],
          [
           "Stephen Curry",
           "2018"
          ],
          [
           "Stephen Curry",
           "2018"
          ],
          [
           "Stephen Curry",
           "2018"
          ],
          [
           "Stephen Curry",
           "2018"
          ],
          [
           "Stephen Curry",
           "2018"
          ],
          [
           "Stephen Curry",
           "2018"
          ],
          [
           "Stephen Curry",
           "2018"
          ],
          [
           "Stephen Curry",
           "2018"
          ],
          [
           "Stephen Curry",
           "2018"
          ],
          [
           "Stephen Curry",
           "2018"
          ],
          [
           "Stephen Curry",
           "2018"
          ],
          [
           "Stephen Curry",
           "2018"
          ],
          [
           "Stephen Curry",
           "2018"
          ],
          [
           "Stephen Curry",
           "2018"
          ],
          [
           "Stephen Curry",
           "2018"
          ],
          [
           "Stephen Curry",
           "2018"
          ],
          [
           "Stephen Curry",
           "2018"
          ],
          [
           "Stephen Curry",
           "2018"
          ],
          [
           "Stephen Curry",
           "2018"
          ],
          [
           "Stephen Curry",
           "2018"
          ],
          [
           "Stephen Curry",
           "2018"
          ],
          [
           "Stephen Curry",
           "2018"
          ],
          [
           "Stephen Curry",
           "2018"
          ],
          [
           "Stephen Curry",
           "2018"
          ],
          [
           "Stephen Curry",
           "2018"
          ],
          [
           "Stephen Curry",
           "2018"
          ],
          [
           "Stephen Curry",
           "2018"
          ],
          [
           "Stephen Curry",
           "2018"
          ],
          [
           "Stephen Curry",
           "2018"
          ],
          [
           "Stephen Curry",
           "2018"
          ],
          [
           "Stephen Curry",
           "2018"
          ],
          [
           "Stephen Curry",
           "2018"
          ],
          [
           "Stephen Curry",
           "2018"
          ],
          [
           "Stephen Curry",
           "2018"
          ],
          [
           "Stephen Curry",
           "2018"
          ],
          [
           "Stephen Curry",
           "2018"
          ],
          [
           "Stephen Curry",
           "2018"
          ],
          [
           "Stephen Curry",
           "2018"
          ],
          [
           "Stephen Curry",
           "2018"
          ],
          [
           "Stephen Curry",
           "2018"
          ],
          [
           "Stephen Curry",
           "2018"
          ],
          [
           "Stephen Curry",
           "2018"
          ],
          [
           "Stephen Curry",
           "2018"
          ],
          [
           "Stephen Curry",
           "2018"
          ],
          [
           "Stephen Curry",
           "2018"
          ],
          [
           "Stephen Curry",
           "2018"
          ],
          [
           "Stephen Curry",
           "2018"
          ],
          [
           "Stephen Curry",
           "2018"
          ],
          [
           "Stephen Curry",
           "2018"
          ],
          [
           "Stephen Curry",
           "2018"
          ],
          [
           "Stephen Curry",
           "2018"
          ]
         ],
         "hovertemplate": "outcome=False<br>x=%{x}<br>y=%{y}<br>player_name=%{customdata[0]}<br>season=%{customdata[1]}<extra></extra>",
         "legendgroup": "False",
         "marker": {
          "color": "#EF553B",
          "size": 3,
          "symbol": "circle"
         },
         "mode": "markers",
         "name": "False",
         "orientation": "v",
         "showlegend": true,
         "type": "scatter",
         "x": [
          -41.78,
          -37.5,
          -36.81,
          -39.59,
          -43.46,
          -39.73,
          -36.44,
          -42.75,
          -41.16,
          -41.05,
          -41.61,
          -40.88,
          -39.55,
          -40.82,
          -35.96,
          -41.36,
          -42.29,
          -42.39,
          -43.3,
          -39.32,
          -39.7,
          -43.17,
          -40.42,
          -43.19,
          -42.5,
          -41.66,
          -37.68,
          -38.47,
          -37.82,
          -43.63,
          -41.5,
          -38.03,
          -42.28,
          -40.89,
          -36.14,
          -40.06,
          -41.55,
          -37.1,
          -39.86,
          -36.95,
          -37.6,
          -39.29,
          -38.95,
          -40,
          -41.06,
          -39.28,
          -41.45,
          -41.06,
          -41.67,
          -41.74,
          -40.38,
          -39.84,
          -38.06,
          -40.82,
          -39.41,
          -39.38,
          -40.31,
          -41.26,
          -42.52,
          -41.55,
          -35.6,
          -38.92,
          -41.22,
          -38.9,
          -37.62,
          -39.41,
          -39.51,
          -37.5,
          -37.62,
          -37.14,
          -40.19,
          -42.41,
          -42.11,
          -42.16,
          -39.28,
          -41.54,
          -39.95,
          -38.42,
          -40.17,
          -42.01,
          -37.19,
          -42.42,
          -38.62,
          -41.58,
          -37.25,
          -35.64,
          -40.6,
          -40.03,
          -41.2,
          -42.54,
          -41.37,
          -41.73,
          -37.98,
          -36.94,
          -40.88,
          -38.8,
          -40.48,
          -39.73,
          -41.33,
          -39.29,
          -40.5,
          -40.28,
          -39.14,
          -37.07,
          -40.64,
          -41.5,
          -40.5,
          -40.47,
          -41.26,
          -38.67,
          -42.06,
          -40.27,
          -41.01,
          -41.44,
          -42.04,
          -40.75,
          -39.92,
          -43.29,
          -36.78,
          -40.16,
          -39.65,
          -39.7,
          -40.59,
          -39.36,
          -39.57,
          -37.92,
          -37.58,
          -42.5,
          -42.68,
          -42.33,
          -36.06,
          -43.49,
          -42.32,
          -37.75,
          -41.21,
          -37.5,
          -35.53,
          -41.06,
          -41.49,
          -40.84,
          -40.86,
          -37.74,
          -37.5,
          -37.83,
          -42.19,
          -42.96,
          -41.45,
          -36.44,
          -36.63,
          -39.58,
          -40.44,
          -39.69,
          -41.97,
          -36.63
         ],
         "xaxis": "x",
         "y": [
          -0.52,
          4.41,
          -3.53,
          -4.45,
          -0.07,
          4.79,
          -2.84,
          3.42,
          0.89,
          -0.73,
          -4.57,
          2.64,
          -4.55,
          -1.62,
          1.97,
          1.72,
          0.68,
          1.84,
          -1.95,
          2.57,
          -0.75,
          0.36,
          4.66,
          0.91,
          1.5,
          -2.19,
          -4.63,
          -4.02,
          0.29,
          -3.43,
          4.66,
          -3.27,
          -3.85,
          1.05,
          2.44,
          2.49,
          -1.7,
          0.88,
          -3.66,
          -0.67,
          -0.68,
          2.39,
          2.99,
          -5,
          -4.35,
          -4.14,
          0.7,
          1.01,
          -1.24,
          1.7,
          -1.05,
          -3.54,
          0.75,
          2.39,
          0.68,
          0.81,
          4.5,
          1.15,
          -1.56,
          -0.76,
          -0.03,
          3.44,
          4.29,
          -2.8,
          -0.89,
          -0.68,
          -0.98,
          2.5,
          -2.44,
          -0.32,
          -0.67,
          -2.5,
          -2.98,
          -1.54,
          -2.73,
          2.32,
          -0.55,
          -0.64,
          -3.71,
          -3.92,
          0.38,
          -1.09,
          -4.21,
          1.38,
          -4.8,
          0.38,
          0.04,
          -0.95,
          -4.59,
          2.29,
          -1.25,
          -2.6,
          -2.02,
          2.08,
          3.05,
          -1.57,
          -2.76,
          1.99,
          -4.66,
          5,
          1.47,
          3.23,
          4.49,
          4.5,
          4.37,
          1.81,
          1.82,
          -1.64,
          -1.56,
          1.24,
          1.7,
          -2.47,
          3.8,
          -2.38,
          0.13,
          2.61,
          3.28,
          -0.09,
          -0.22,
          1.64,
          1.94,
          -4.75,
          4.81,
          -1.92,
          0.29,
          1.63,
          -2.41,
          -1.5,
          2.37,
          3.41,
          -4.8,
          3.59,
          0.14,
          1.72,
          -3.71,
          0.74,
          0.88,
          2.41,
          3.5,
          -3.84,
          2.14,
          -1.53,
          1.94,
          1.05,
          -2.67,
          2.5,
          2.82,
          3.01,
          0.71,
          -0.14,
          1.74,
          3.85,
          -1.34,
          3.04
         ],
         "yaxis": "y"
        }
       ],
       "layout": {
        "legend": {
         "title": {
          "text": "outcome"
         },
         "tracegroupgap": 0
        },
        "margin": {
         "t": 60
        },
        "shapes": [
         {
          "line": {
           "color": "black",
           "width": 2
          },
          "type": "rect",
          "x0": -47,
          "x1": 47,
          "y0": -25,
          "y1": 25
         },
         {
          "line": {
           "color": "black",
           "width": 2
          },
          "type": "rect",
          "x0": -47,
          "x1": -28,
          "y0": -6,
          "y1": 6
         },
         {
          "line": {
           "color": "black",
           "width": 2
          },
          "type": "rect",
          "x0": 28,
          "x1": 47,
          "y0": -6,
          "y1": 6
         },
         {
          "line": {
           "color": "black",
           "width": 2
          },
          "type": "rect",
          "x0": -47,
          "x1": -33,
          "y0": 22,
          "y1": 22
         },
         {
          "line": {
           "color": "black",
           "width": 2
          },
          "type": "rect",
          "x0": -47,
          "x1": -33,
          "y0": -22,
          "y1": -22
         },
         {
          "line": {
           "color": "black",
           "width": 2
          },
          "type": "rect",
          "x0": 33,
          "x1": 47,
          "y0": 22,
          "y1": 22
         },
         {
          "line": {
           "color": "black",
           "width": 2
          },
          "type": "rect",
          "x0": 33,
          "x1": 47,
          "y0": -22,
          "y1": -22
         },
         {
          "line": {
           "color": "black",
           "width": 2
          },
          "type": "line",
          "x0": 0,
          "x1": 0,
          "y0": -25,
          "y1": 25
         },
         {
          "line": {
           "color": "black",
           "width": 2
          },
          "type": "line",
          "x0": -43,
          "x1": -43,
          "y0": -3,
          "y1": 3
         },
         {
          "line": {
           "color": "black",
           "width": 2
          },
          "type": "line",
          "x0": 43,
          "x1": 43,
          "y0": -3,
          "y1": 3
         },
         {
          "line": {
           "color": "black",
           "width": 2
          },
          "type": "circle",
          "x0": -6,
          "x1": 6,
          "y0": -6,
          "y1": 6
         },
         {
          "line": {
           "color": "black",
           "width": 2
          },
          "type": "circle",
          "x0": 41.875,
          "x1": 42.625,
          "y0": -0.375,
          "y1": 0.375
         },
         {
          "line": {
           "color": "black",
           "width": 2
          },
          "type": "circle",
          "x0": -42.625,
          "x1": -41.875,
          "y0": -0.375,
          "y1": 0.375
         },
         {
          "line": {
           "color": "black",
           "width": 2
          },
          "type": "circle",
          "x0": -34,
          "x1": -22,
          "y0": -6,
          "y1": 6
         },
         {
          "line": {
           "color": "black",
           "width": 2
          },
          "type": "circle",
          "x0": 22,
          "x1": 34,
          "y0": -6,
          "y1": 6
         },
         {
          "line": {
           "color": "black",
           "width": 2
          },
          "path": "M -33,-22 Q -5,0 -33,22",
          "type": "path"
         },
         {
          "line": {
           "color": "black",
           "width": 2
          },
          "path": "M 33,-22 Q 5,0 33,22",
          "type": "path"
         }
        ],
        "template": {
         "data": {
          "bar": [
           {
            "error_x": {
             "color": "#2a3f5f"
            },
            "error_y": {
             "color": "#2a3f5f"
            },
            "marker": {
             "line": {
              "color": "#E5ECF6",
              "width": 0.5
             },
             "pattern": {
              "fillmode": "overlay",
              "size": 10,
              "solidity": 0.2
             }
            },
            "type": "bar"
           }
          ],
          "barpolar": [
           {
            "marker": {
             "line": {
              "color": "#E5ECF6",
              "width": 0.5
             },
             "pattern": {
              "fillmode": "overlay",
              "size": 10,
              "solidity": 0.2
             }
            },
            "type": "barpolar"
           }
          ],
          "carpet": [
           {
            "aaxis": {
             "endlinecolor": "#2a3f5f",
             "gridcolor": "white",
             "linecolor": "white",
             "minorgridcolor": "white",
             "startlinecolor": "#2a3f5f"
            },
            "baxis": {
             "endlinecolor": "#2a3f5f",
             "gridcolor": "white",
             "linecolor": "white",
             "minorgridcolor": "white",
             "startlinecolor": "#2a3f5f"
            },
            "type": "carpet"
           }
          ],
          "choropleth": [
           {
            "colorbar": {
             "outlinewidth": 0,
             "ticks": ""
            },
            "type": "choropleth"
           }
          ],
          "contour": [
           {
            "colorbar": {
             "outlinewidth": 0,
             "ticks": ""
            },
            "colorscale": [
             [
              0,
              "#0d0887"
             ],
             [
              0.1111111111111111,
              "#46039f"
             ],
             [
              0.2222222222222222,
              "#7201a8"
             ],
             [
              0.3333333333333333,
              "#9c179e"
             ],
             [
              0.4444444444444444,
              "#bd3786"
             ],
             [
              0.5555555555555556,
              "#d8576b"
             ],
             [
              0.6666666666666666,
              "#ed7953"
             ],
             [
              0.7777777777777778,
              "#fb9f3a"
             ],
             [
              0.8888888888888888,
              "#fdca26"
             ],
             [
              1,
              "#f0f921"
             ]
            ],
            "type": "contour"
           }
          ],
          "contourcarpet": [
           {
            "colorbar": {
             "outlinewidth": 0,
             "ticks": ""
            },
            "type": "contourcarpet"
           }
          ],
          "heatmap": [
           {
            "colorbar": {
             "outlinewidth": 0,
             "ticks": ""
            },
            "colorscale": [
             [
              0,
              "#0d0887"
             ],
             [
              0.1111111111111111,
              "#46039f"
             ],
             [
              0.2222222222222222,
              "#7201a8"
             ],
             [
              0.3333333333333333,
              "#9c179e"
             ],
             [
              0.4444444444444444,
              "#bd3786"
             ],
             [
              0.5555555555555556,
              "#d8576b"
             ],
             [
              0.6666666666666666,
              "#ed7953"
             ],
             [
              0.7777777777777778,
              "#fb9f3a"
             ],
             [
              0.8888888888888888,
              "#fdca26"
             ],
             [
              1,
              "#f0f921"
             ]
            ],
            "type": "heatmap"
           }
          ],
          "heatmapgl": [
           {
            "colorbar": {
             "outlinewidth": 0,
             "ticks": ""
            },
            "colorscale": [
             [
              0,
              "#0d0887"
             ],
             [
              0.1111111111111111,
              "#46039f"
             ],
             [
              0.2222222222222222,
              "#7201a8"
             ],
             [
              0.3333333333333333,
              "#9c179e"
             ],
             [
              0.4444444444444444,
              "#bd3786"
             ],
             [
              0.5555555555555556,
              "#d8576b"
             ],
             [
              0.6666666666666666,
              "#ed7953"
             ],
             [
              0.7777777777777778,
              "#fb9f3a"
             ],
             [
              0.8888888888888888,
              "#fdca26"
             ],
             [
              1,
              "#f0f921"
             ]
            ],
            "type": "heatmapgl"
           }
          ],
          "histogram": [
           {
            "marker": {
             "pattern": {
              "fillmode": "overlay",
              "size": 10,
              "solidity": 0.2
             }
            },
            "type": "histogram"
           }
          ],
          "histogram2d": [
           {
            "colorbar": {
             "outlinewidth": 0,
             "ticks": ""
            },
            "colorscale": [
             [
              0,
              "#0d0887"
             ],
             [
              0.1111111111111111,
              "#46039f"
             ],
             [
              0.2222222222222222,
              "#7201a8"
             ],
             [
              0.3333333333333333,
              "#9c179e"
             ],
             [
              0.4444444444444444,
              "#bd3786"
             ],
             [
              0.5555555555555556,
              "#d8576b"
             ],
             [
              0.6666666666666666,
              "#ed7953"
             ],
             [
              0.7777777777777778,
              "#fb9f3a"
             ],
             [
              0.8888888888888888,
              "#fdca26"
             ],
             [
              1,
              "#f0f921"
             ]
            ],
            "type": "histogram2d"
           }
          ],
          "histogram2dcontour": [
           {
            "colorbar": {
             "outlinewidth": 0,
             "ticks": ""
            },
            "colorscale": [
             [
              0,
              "#0d0887"
             ],
             [
              0.1111111111111111,
              "#46039f"
             ],
             [
              0.2222222222222222,
              "#7201a8"
             ],
             [
              0.3333333333333333,
              "#9c179e"
             ],
             [
              0.4444444444444444,
              "#bd3786"
             ],
             [
              0.5555555555555556,
              "#d8576b"
             ],
             [
              0.6666666666666666,
              "#ed7953"
             ],
             [
              0.7777777777777778,
              "#fb9f3a"
             ],
             [
              0.8888888888888888,
              "#fdca26"
             ],
             [
              1,
              "#f0f921"
             ]
            ],
            "type": "histogram2dcontour"
           }
          ],
          "mesh3d": [
           {
            "colorbar": {
             "outlinewidth": 0,
             "ticks": ""
            },
            "type": "mesh3d"
           }
          ],
          "parcoords": [
           {
            "line": {
             "colorbar": {
              "outlinewidth": 0,
              "ticks": ""
             }
            },
            "type": "parcoords"
           }
          ],
          "pie": [
           {
            "automargin": true,
            "type": "pie"
           }
          ],
          "scatter": [
           {
            "fillpattern": {
             "fillmode": "overlay",
             "size": 10,
             "solidity": 0.2
            },
            "type": "scatter"
           }
          ],
          "scatter3d": [
           {
            "line": {
             "colorbar": {
              "outlinewidth": 0,
              "ticks": ""
             }
            },
            "marker": {
             "colorbar": {
              "outlinewidth": 0,
              "ticks": ""
             }
            },
            "type": "scatter3d"
           }
          ],
          "scattercarpet": [
           {
            "marker": {
             "colorbar": {
              "outlinewidth": 0,
              "ticks": ""
             }
            },
            "type": "scattercarpet"
           }
          ],
          "scattergeo": [
           {
            "marker": {
             "colorbar": {
              "outlinewidth": 0,
              "ticks": ""
             }
            },
            "type": "scattergeo"
           }
          ],
          "scattergl": [
           {
            "marker": {
             "colorbar": {
              "outlinewidth": 0,
              "ticks": ""
             }
            },
            "type": "scattergl"
           }
          ],
          "scattermapbox": [
           {
            "marker": {
             "colorbar": {
              "outlinewidth": 0,
              "ticks": ""
             }
            },
            "type": "scattermapbox"
           }
          ],
          "scatterpolar": [
           {
            "marker": {
             "colorbar": {
              "outlinewidth": 0,
              "ticks": ""
             }
            },
            "type": "scatterpolar"
           }
          ],
          "scatterpolargl": [
           {
            "marker": {
             "colorbar": {
              "outlinewidth": 0,
              "ticks": ""
             }
            },
            "type": "scatterpolargl"
           }
          ],
          "scatterternary": [
           {
            "marker": {
             "colorbar": {
              "outlinewidth": 0,
              "ticks": ""
             }
            },
            "type": "scatterternary"
           }
          ],
          "surface": [
           {
            "colorbar": {
             "outlinewidth": 0,
             "ticks": ""
            },
            "colorscale": [
             [
              0,
              "#0d0887"
             ],
             [
              0.1111111111111111,
              "#46039f"
             ],
             [
              0.2222222222222222,
              "#7201a8"
             ],
             [
              0.3333333333333333,
              "#9c179e"
             ],
             [
              0.4444444444444444,
              "#bd3786"
             ],
             [
              0.5555555555555556,
              "#d8576b"
             ],
             [
              0.6666666666666666,
              "#ed7953"
             ],
             [
              0.7777777777777778,
              "#fb9f3a"
             ],
             [
              0.8888888888888888,
              "#fdca26"
             ],
             [
              1,
              "#f0f921"
             ]
            ],
            "type": "surface"
           }
          ],
          "table": [
           {
            "cells": {
             "fill": {
              "color": "#EBF0F8"
             },
             "line": {
              "color": "white"
             }
            },
            "header": {
             "fill": {
              "color": "#C8D4E3"
             },
             "line": {
              "color": "white"
             }
            },
            "type": "table"
           }
          ]
         },
         "layout": {
          "annotationdefaults": {
           "arrowcolor": "#2a3f5f",
           "arrowhead": 0,
           "arrowwidth": 1
          },
          "autotypenumbers": "strict",
          "coloraxis": {
           "colorbar": {
            "outlinewidth": 0,
            "ticks": ""
           }
          },
          "colorscale": {
           "diverging": [
            [
             0,
             "#8e0152"
            ],
            [
             0.1,
             "#c51b7d"
            ],
            [
             0.2,
             "#de77ae"
            ],
            [
             0.3,
             "#f1b6da"
            ],
            [
             0.4,
             "#fde0ef"
            ],
            [
             0.5,
             "#f7f7f7"
            ],
            [
             0.6,
             "#e6f5d0"
            ],
            [
             0.7,
             "#b8e186"
            ],
            [
             0.8,
             "#7fbc41"
            ],
            [
             0.9,
             "#4d9221"
            ],
            [
             1,
             "#276419"
            ]
           ],
           "sequential": [
            [
             0,
             "#0d0887"
            ],
            [
             0.1111111111111111,
             "#46039f"
            ],
            [
             0.2222222222222222,
             "#7201a8"
            ],
            [
             0.3333333333333333,
             "#9c179e"
            ],
            [
             0.4444444444444444,
             "#bd3786"
            ],
            [
             0.5555555555555556,
             "#d8576b"
            ],
            [
             0.6666666666666666,
             "#ed7953"
            ],
            [
             0.7777777777777778,
             "#fb9f3a"
            ],
            [
             0.8888888888888888,
             "#fdca26"
            ],
            [
             1,
             "#f0f921"
            ]
           ],
           "sequentialminus": [
            [
             0,
             "#0d0887"
            ],
            [
             0.1111111111111111,
             "#46039f"
            ],
            [
             0.2222222222222222,
             "#7201a8"
            ],
            [
             0.3333333333333333,
             "#9c179e"
            ],
            [
             0.4444444444444444,
             "#bd3786"
            ],
            [
             0.5555555555555556,
             "#d8576b"
            ],
            [
             0.6666666666666666,
             "#ed7953"
            ],
            [
             0.7777777777777778,
             "#fb9f3a"
            ],
            [
             0.8888888888888888,
             "#fdca26"
            ],
            [
             1,
             "#f0f921"
            ]
           ]
          },
          "colorway": [
           "#636efa",
           "#EF553B",
           "#00cc96",
           "#ab63fa",
           "#FFA15A",
           "#19d3f3",
           "#FF6692",
           "#B6E880",
           "#FF97FF",
           "#FECB52"
          ],
          "font": {
           "color": "#2a3f5f"
          },
          "geo": {
           "bgcolor": "white",
           "lakecolor": "white",
           "landcolor": "#E5ECF6",
           "showlakes": true,
           "showland": true,
           "subunitcolor": "white"
          },
          "hoverlabel": {
           "align": "left"
          },
          "hovermode": "closest",
          "mapbox": {
           "style": "light"
          },
          "paper_bgcolor": "white",
          "plot_bgcolor": "#E5ECF6",
          "polar": {
           "angularaxis": {
            "gridcolor": "white",
            "linecolor": "white",
            "ticks": ""
           },
           "bgcolor": "#E5ECF6",
           "radialaxis": {
            "gridcolor": "white",
            "linecolor": "white",
            "ticks": ""
           }
          },
          "scene": {
           "xaxis": {
            "backgroundcolor": "#E5ECF6",
            "gridcolor": "white",
            "gridwidth": 2,
            "linecolor": "white",
            "showbackground": true,
            "ticks": "",
            "zerolinecolor": "white"
           },
           "yaxis": {
            "backgroundcolor": "#E5ECF6",
            "gridcolor": "white",
            "gridwidth": 2,
            "linecolor": "white",
            "showbackground": true,
            "ticks": "",
            "zerolinecolor": "white"
           },
           "zaxis": {
            "backgroundcolor": "#E5ECF6",
            "gridcolor": "white",
            "gridwidth": 2,
            "linecolor": "white",
            "showbackground": true,
            "ticks": "",
            "zerolinecolor": "white"
           }
          },
          "shapedefaults": {
           "line": {
            "color": "#2a3f5f"
           }
          },
          "ternary": {
           "aaxis": {
            "gridcolor": "white",
            "linecolor": "white",
            "ticks": ""
           },
           "baxis": {
            "gridcolor": "white",
            "linecolor": "white",
            "ticks": ""
           },
           "bgcolor": "#E5ECF6",
           "caxis": {
            "gridcolor": "white",
            "linecolor": "white",
            "ticks": ""
           }
          },
          "title": {
           "x": 0.05
          },
          "xaxis": {
           "automargin": true,
           "gridcolor": "white",
           "linecolor": "white",
           "ticks": "",
           "title": {
            "standoff": 15
           },
           "zerolinecolor": "white",
           "zerolinewidth": 2
          },
          "yaxis": {
           "automargin": true,
           "gridcolor": "white",
           "linecolor": "white",
           "ticks": "",
           "title": {
            "standoff": 15
           },
           "zerolinecolor": "white",
           "zerolinewidth": 2
          }
         }
        },
        "title": {
         "text": "Stephen Curry 2018 FG%: 0.56"
        },
        "xaxis": {
         "anchor": "y",
         "domain": [
          0,
          1
         ],
         "title": {
          "text": "x"
         }
        },
        "yaxis": {
         "anchor": "x",
         "domain": [
          0,
          1
         ],
         "title": {
          "text": "y"
         }
        }
       }
      }
     },
     "metadata": {},
     "output_type": "display_data"
    }
   ],
   "source": [
    "fig = get_shots_fig(**args)\n",
    "fig.show()"
   ]
  },
  {
   "cell_type": "code",
   "execution_count": null,
   "metadata": {},
   "outputs": [],
   "source": []
  }
 ],
 "metadata": {
  "kernelspec": {
   "display_name": "Python 3",
   "language": "python",
   "name": "python3"
  },
  "language_info": {
   "codemirror_mode": {
    "name": "ipython",
    "version": 3
   },
   "file_extension": ".py",
   "mimetype": "text/x-python",
   "name": "python",
   "nbconvert_exporter": "python",
   "pygments_lexer": "ipython3",
   "version": "3.11.2"
  },
  "orig_nbformat": 4
 },
 "nbformat": 4,
 "nbformat_minor": 2
}
